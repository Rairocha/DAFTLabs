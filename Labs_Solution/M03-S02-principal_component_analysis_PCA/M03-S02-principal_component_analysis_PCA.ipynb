{
 "cells": [
  {
   "cell_type": "markdown",
   "source": [
    "# LAB | PCA\r\n",
    "\r\n",
    "## Introduction\r\n",
    "In this lesson, we will look at a dataset of cats and a dataset of dogs and see whether reducing them to two dimensions allows us to see if the data is separable."
   ],
   "metadata": {
    "id": "xLLW4yjDFDOg"
   }
  },
  {
   "cell_type": "code",
   "execution_count": 2,
   "source": [
    "import pandas as pd\r\n",
    "import numpy as np\r\n",
    "import matplotlib.pyplot as plt\r\n",
    "import seaborn as sns"
   ],
   "outputs": [],
   "metadata": {
    "id": "MGqPNs-JFDOm"
   }
  },
  {
   "cell_type": "markdown",
   "source": [
    "# Challenge 1 - Reading and Standardizing the Data\r\n",
    "\r\n",
    "In this challenge we will work with image data and reduce the dimensions of the data to create a 2 dimensional plot. While we have not worked much with image data before, it can be represented as a numpy array where each pixel is assigned a numeric value. We will start by loading and processing the data. Run the cell below to load the two csv files and convert them into numpy arrays."
   ],
   "metadata": {
    "id": "nISH216QFDOm"
   }
  },
  {
   "cell_type": "code",
   "execution_count": 3,
   "source": [
    "# Run this code\r\n",
    "cats = np.array(pd.read_csv(\"https://raw.githubusercontent.com/bioramble/pca/master/cat.csv\", header=None)).T\r\n",
    "dogs = np.array(pd.read_csv(\"https://raw.githubusercontent.com/bioramble/pca/master/dog.csv\", header=None)).T"
   ],
   "outputs": [],
   "metadata": {
    "id": "6sb4RKhGFDOm"
   }
  },
  {
   "cell_type": "markdown",
   "source": [
    "Next, we'll examine the shape of both the cats and the dogs arrays. Print out both shapes below."
   ],
   "metadata": {
    "id": "ea9CtFZOFDOn"
   }
  },
  {
   "cell_type": "code",
   "execution_count": 4,
   "source": [
    "cats.shape, dogs.shape"
   ],
   "outputs": [
    {
     "output_type": "execute_result",
     "data": {
      "text/plain": [
       "((80, 4096), (80, 4096))"
      ]
     },
     "metadata": {},
     "execution_count": 4
    }
   ],
   "metadata": {
    "id": "zwfJ_fAzFDOn",
    "outputId": "7ba12f2a-ea93-45a9-b98d-8ab77ae243c6"
   }
  },
  {
   "cell_type": "markdown",
   "source": [
    "What this means is that both arrays contain 80 images each (the number of columns). Each image is comprised of 64x64 pixels (so a total of 4096 pixels per image). The images have been flattened such that all 4096 are in a single row.\r\n",
    "\r\n",
    "Print out column 0 of the cats array to see what the pixels values look like."
   ],
   "metadata": {
    "id": "y_lOarPjFDOo"
   }
  },
  {
   "cell_type": "code",
   "execution_count": 5,
   "source": [
    "cats[0]"
   ],
   "outputs": [
    {
     "output_type": "execute_result",
     "data": {
      "text/plain": [
       "array([64, 64, 64, ..., 64, 64, 61], dtype=int64)"
      ]
     },
     "metadata": {},
     "execution_count": 5
    }
   ],
   "metadata": {
    "ExecuteTime": {
     "end_time": "2021-02-25T13:05:54.979105Z",
     "start_time": "2021-02-25T13:05:54.969235Z"
    },
    "id": "hiQS9EY8FDOo"
   }
  },
  {
   "cell_type": "markdown",
   "source": [
    "Using `matplotlib` we can plot a single cat or a single dog. We do this by reshaping the vector back to a 64x64 image and then using the `imshow` function.\n",
    "\n",
    "Run the code below to look at the first dog and the first cat."
   ],
   "metadata": {
    "id": "9UvFnMgPFDOo"
   }
  },
  {
   "cell_type": "code",
   "execution_count": 6,
   "source": [
    "# Run this code:\r\n",
    "fig, ax = plt.subplots()\r\n",
    "ax.imshow(cats[0].reshape(64,64).T, cmap=plt.cm.bone, interpolation='nearest');"
   ],
   "outputs": [
    {
     "output_type": "display_data",
     "data": {
      "image/png": "[encoded data removed]",
      "text/plain": [
       "<Figure size 432x288 with 1 Axes>"
      ]
     },
     "metadata": {
      "needs_background": "light"
     }
    }
   ],
   "metadata": {
    "id": "AcqumTdRFDOp",
    "outputId": "97aa7604-9987-474a-dd74-8a0b45cfbd79"
   }
  },
  {
   "cell_type": "code",
   "execution_count": 7,
   "source": [
    "# Run this code:\r\n",
    "fig, ax = plt.subplots()\r\n",
    "ax.imshow(dogs[0].reshape(64, 64).T, cmap=plt.cm.bone, interpolation='nearest');"
   ],
   "outputs": [
    {
     "output_type": "display_data",
     "data": {
      "image/png": "[encoded data removed]",
      "text/plain": [
       "<Figure size 432x288 with 1 Axes>"
      ]
     },
     "metadata": {
      "needs_background": "light"
     }
    }
   ],
   "metadata": {
    "id": "CZzjFZRdFDOp",
    "outputId": "4e5bd9ca-1742-4f29-c9bb-f893baf36747"
   }
  },
  {
   "cell_type": "markdown",
   "source": [
    "Now, use the `np.concatenate` function to combine the cats and dogs arrays. Use `axis=1` to combine the two correctly. Make sure to put dogs first."
   ],
   "metadata": {
    "id": "bOFINuuHFDOq"
   }
  },
  {
   "cell_type": "code",
   "execution_count": 8,
   "source": [
    "arrays = np.concatenate([dogs, cats], axis = 0)"
   ],
   "outputs": [],
   "metadata": {
    "id": "V2VJM2NYFDOq"
   }
  },
  {
   "cell_type": "markdown",
   "source": [
    "Next, we would like to create a standardization function. This function will find the mean and standard deviation of each image. We subtract the mean from each pixel and divide each pixel by the standard deviation. Write the function below."
   ],
   "metadata": {
    "id": "PycXeWQNFDOp"
   }
  },
  {
   "cell_type": "code",
   "execution_count": 9,
   "source": [
    "from sklearn.preprocessing import StandardScaler "
   ],
   "outputs": [],
   "metadata": {
    "id": "7JM7-kq0FDOp"
   }
  },
  {
   "cell_type": "code",
   "execution_count": 10,
   "source": [
    "standard = StandardScaler()\r\n",
    "X_std = standard.fit_transform(arrays)\r\n",
    "X_std"
   ],
   "outputs": [
    {
     "output_type": "execute_result",
     "data": {
      "text/plain": [
       "array([[ 1.62729443,  1.73140122,  1.72275667, ..., -0.13587854,\n",
       "        -0.12814121, -0.12602345],\n",
       "       [ 0.38158288,  0.33482835,  0.06509765, ..., -0.0777098 ,\n",
       "         0.22258027,  0.22212766],\n",
       "       [ 0.32800389,  0.50241709,  0.38281563, ...,  0.08225423,\n",
       "        -0.06968763, -0.06799826],\n",
       "       ...,\n",
       "       [-0.56944422, -0.69863558, -0.50126918, ..., -0.06316762,\n",
       "         0.1348999 , -0.06799826],\n",
       "       [ 1.61389968,  1.73140122,  1.73657049, ...,  1.02749626,\n",
       "         1.07015718,  0.99096135],\n",
       "       [-0.02025956,  0.09741096,  0.0927253 , ...,  0.06771205,\n",
       "        -0.25966176,  0.0625584 ]])"
      ]
     },
     "metadata": {},
     "execution_count": 10
    }
   ],
   "metadata": {
    "id": "jX1IQ5AwFDOq"
   }
  },
  {
   "cell_type": "markdown",
   "source": [
    "# Challenge 2 - Using PCA\n",
    "\n",
    "Now that we have created a standardized matrix of cats and dogs, we'll find the two most important components in the data.\n",
    "\n",
    "Load the `PCA` function. Create a PCA model with two components.\n",
    "You might need to transpose your data to get the right results."
   ],
   "metadata": {
    "id": "kRMcgTapFDOq"
   }
  },
  {
   "cell_type": "code",
   "execution_count": 11,
   "source": [
    "from sklearn.decomposition import PCA"
   ],
   "outputs": [],
   "metadata": {
    "id": "o6JKMVCpFDOq"
   }
  },
  {
   "cell_type": "code",
   "execution_count": 12,
   "source": [
    "pca = PCA(2)\r\n",
    "pca.fit(X_std)\r\n",
    "pca.transform(X_std)\r\n",
    "\r\n",
    "pc1 = pca.transform(X_std)[:, 0]\r\n",
    "pc2 = pca.transform(X_std)[:, 1]"
   ],
   "outputs": [],
   "metadata": {
    "id": "aXde8FwZFDOr"
   }
  },
  {
   "cell_type": "markdown",
   "source": [
    "# Challenge 3 - Plotting the Data\n",
    "\n",
    "Now that we have reduced our cats and dogs arrays, we can easily plot the data in a way that the human eye can understand. We can look at this plot to see whether there are differences between the cat and dog images. \n",
    "\n",
    "In the cell below, turn the two dimensional projection into a pandas dataframe and name the columns `pc1`, and `pc2` respectively."
   ],
   "metadata": {
    "id": "no-JSnrxFDOr"
   }
  },
  {
   "cell_type": "code",
   "execution_count": 13,
   "source": [
    "df = pd.DataFrame([pc1, pc2]).T\r\n",
    "df.columns = ['pc1', 'pc2']\r\n",
    "df['cat_dog'] = ['dog' if x < 80 else 'cat' for x in range(160)] #label the images\r\n",
    "#in the cells above we concatenate 80 images of dogs with 80 images of cats. Total 160 images \r\n",
    "\r\n",
    "df"
   ],
   "outputs": [
    {
     "output_type": "execute_result",
     "data": {
      "text/html": [
       "<div>\n",
       "<style scoped>\n",
       "    .dataframe tbody tr th:only-of-type {\n",
       "        vertical-align: middle;\n",
       "    }\n",
       "\n",
       "    .dataframe tbody tr th {\n",
       "        vertical-align: top;\n",
       "    }\n",
       "\n",
       "    .dataframe thead th {\n",
       "        text-align: right;\n",
       "    }\n",
       "</style>\n",
       "<table border=\"1\" class=\"dataframe\">\n",
       "  <thead>\n",
       "    <tr style=\"text-align: right;\">\n",
       "      <th></th>\n",
       "      <th>pc1</th>\n",
       "      <th>pc2</th>\n",
       "      <th>cat_dog</th>\n",
       "    </tr>\n",
       "  </thead>\n",
       "  <tbody>\n",
       "    <tr>\n",
       "      <th>0</th>\n",
       "      <td>45.544981</td>\n",
       "      <td>-25.238939</td>\n",
       "      <td>dog</td>\n",
       "    </tr>\n",
       "    <tr>\n",
       "      <th>1</th>\n",
       "      <td>-24.832859</td>\n",
       "      <td>-41.571686</td>\n",
       "      <td>dog</td>\n",
       "    </tr>\n",
       "    <tr>\n",
       "      <th>2</th>\n",
       "      <td>27.469245</td>\n",
       "      <td>11.958187</td>\n",
       "      <td>dog</td>\n",
       "    </tr>\n",
       "    <tr>\n",
       "      <th>3</th>\n",
       "      <td>-22.599855</td>\n",
       "      <td>-9.839362</td>\n",
       "      <td>dog</td>\n",
       "    </tr>\n",
       "    <tr>\n",
       "      <th>4</th>\n",
       "      <td>19.360356</td>\n",
       "      <td>-18.812025</td>\n",
       "      <td>dog</td>\n",
       "    </tr>\n",
       "    <tr>\n",
       "      <th>...</th>\n",
       "      <td>...</td>\n",
       "      <td>...</td>\n",
       "      <td>...</td>\n",
       "    </tr>\n",
       "    <tr>\n",
       "      <th>155</th>\n",
       "      <td>-0.540205</td>\n",
       "      <td>15.293931</td>\n",
       "      <td>cat</td>\n",
       "    </tr>\n",
       "    <tr>\n",
       "      <th>156</th>\n",
       "      <td>-16.701598</td>\n",
       "      <td>20.898395</td>\n",
       "      <td>cat</td>\n",
       "    </tr>\n",
       "    <tr>\n",
       "      <th>157</th>\n",
       "      <td>-18.718427</td>\n",
       "      <td>20.867385</td>\n",
       "      <td>cat</td>\n",
       "    </tr>\n",
       "    <tr>\n",
       "      <th>158</th>\n",
       "      <td>-14.326408</td>\n",
       "      <td>-14.334384</td>\n",
       "      <td>cat</td>\n",
       "    </tr>\n",
       "    <tr>\n",
       "      <th>159</th>\n",
       "      <td>10.455009</td>\n",
       "      <td>8.366717</td>\n",
       "      <td>cat</td>\n",
       "    </tr>\n",
       "  </tbody>\n",
       "</table>\n",
       "<p>160 rows × 3 columns</p>\n",
       "</div>"
      ],
      "text/plain": [
       "           pc1        pc2 cat_dog\n",
       "0    45.544981 -25.238939     dog\n",
       "1   -24.832859 -41.571686     dog\n",
       "2    27.469245  11.958187     dog\n",
       "3   -22.599855  -9.839362     dog\n",
       "4    19.360356 -18.812025     dog\n",
       "..         ...        ...     ...\n",
       "155  -0.540205  15.293931     cat\n",
       "156 -16.701598  20.898395     cat\n",
       "157 -18.718427  20.867385     cat\n",
       "158 -14.326408 -14.334384     cat\n",
       "159  10.455009   8.366717     cat\n",
       "\n",
       "[160 rows x 3 columns]"
      ]
     },
     "metadata": {},
     "execution_count": 13
    }
   ],
   "metadata": {}
  },
  {
   "cell_type": "markdown",
   "source": [
    "Create a labels list. This list will be of size 160. The first 80 elements in the list will be the word `blue`, and the last 80 elements will be `red`. This will ensure that all dog observations will be colored in blue and all cats will be colored in red. Name this list `colors`."
   ],
   "metadata": {
    "id": "a77mi_VUFDOr"
   }
  },
  {
   "cell_type": "code",
   "execution_count": 14,
   "source": [
    "# Your code here:\r\n",
    "df['colors'] = df['cat_dog'].apply(lambda x: 'blue' if x == 'dog' else 'red')\r\n",
    "df"
   ],
   "outputs": [
    {
     "output_type": "execute_result",
     "data": {
      "text/html": [
       "<div>\n",
       "<style scoped>\n",
       "    .dataframe tbody tr th:only-of-type {\n",
       "        vertical-align: middle;\n",
       "    }\n",
       "\n",
       "    .dataframe tbody tr th {\n",
       "        vertical-align: top;\n",
       "    }\n",
       "\n",
       "    .dataframe thead th {\n",
       "        text-align: right;\n",
       "    }\n",
       "</style>\n",
       "<table border=\"1\" class=\"dataframe\">\n",
       "  <thead>\n",
       "    <tr style=\"text-align: right;\">\n",
       "      <th></th>\n",
       "      <th>pc1</th>\n",
       "      <th>pc2</th>\n",
       "      <th>cat_dog</th>\n",
       "      <th>colors</th>\n",
       "    </tr>\n",
       "  </thead>\n",
       "  <tbody>\n",
       "    <tr>\n",
       "      <th>0</th>\n",
       "      <td>45.544981</td>\n",
       "      <td>-25.238939</td>\n",
       "      <td>dog</td>\n",
       "      <td>blue</td>\n",
       "    </tr>\n",
       "    <tr>\n",
       "      <th>1</th>\n",
       "      <td>-24.832859</td>\n",
       "      <td>-41.571686</td>\n",
       "      <td>dog</td>\n",
       "      <td>blue</td>\n",
       "    </tr>\n",
       "    <tr>\n",
       "      <th>2</th>\n",
       "      <td>27.469245</td>\n",
       "      <td>11.958187</td>\n",
       "      <td>dog</td>\n",
       "      <td>blue</td>\n",
       "    </tr>\n",
       "    <tr>\n",
       "      <th>3</th>\n",
       "      <td>-22.599855</td>\n",
       "      <td>-9.839362</td>\n",
       "      <td>dog</td>\n",
       "      <td>blue</td>\n",
       "    </tr>\n",
       "    <tr>\n",
       "      <th>4</th>\n",
       "      <td>19.360356</td>\n",
       "      <td>-18.812025</td>\n",
       "      <td>dog</td>\n",
       "      <td>blue</td>\n",
       "    </tr>\n",
       "    <tr>\n",
       "      <th>...</th>\n",
       "      <td>...</td>\n",
       "      <td>...</td>\n",
       "      <td>...</td>\n",
       "      <td>...</td>\n",
       "    </tr>\n",
       "    <tr>\n",
       "      <th>155</th>\n",
       "      <td>-0.540205</td>\n",
       "      <td>15.293931</td>\n",
       "      <td>cat</td>\n",
       "      <td>red</td>\n",
       "    </tr>\n",
       "    <tr>\n",
       "      <th>156</th>\n",
       "      <td>-16.701598</td>\n",
       "      <td>20.898395</td>\n",
       "      <td>cat</td>\n",
       "      <td>red</td>\n",
       "    </tr>\n",
       "    <tr>\n",
       "      <th>157</th>\n",
       "      <td>-18.718427</td>\n",
       "      <td>20.867385</td>\n",
       "      <td>cat</td>\n",
       "      <td>red</td>\n",
       "    </tr>\n",
       "    <tr>\n",
       "      <th>158</th>\n",
       "      <td>-14.326408</td>\n",
       "      <td>-14.334384</td>\n",
       "      <td>cat</td>\n",
       "      <td>red</td>\n",
       "    </tr>\n",
       "    <tr>\n",
       "      <th>159</th>\n",
       "      <td>10.455009</td>\n",
       "      <td>8.366717</td>\n",
       "      <td>cat</td>\n",
       "      <td>red</td>\n",
       "    </tr>\n",
       "  </tbody>\n",
       "</table>\n",
       "<p>160 rows × 4 columns</p>\n",
       "</div>"
      ],
      "text/plain": [
       "           pc1        pc2 cat_dog colors\n",
       "0    45.544981 -25.238939     dog   blue\n",
       "1   -24.832859 -41.571686     dog   blue\n",
       "2    27.469245  11.958187     dog   blue\n",
       "3   -22.599855  -9.839362     dog   blue\n",
       "4    19.360356 -18.812025     dog   blue\n",
       "..         ...        ...     ...    ...\n",
       "155  -0.540205  15.293931     cat    red\n",
       "156 -16.701598  20.898395     cat    red\n",
       "157 -18.718427  20.867385     cat    red\n",
       "158 -14.326408 -14.334384     cat    red\n",
       "159  10.455009   8.366717     cat    red\n",
       "\n",
       "[160 rows x 4 columns]"
      ]
     },
     "metadata": {},
     "execution_count": 14
    }
   ],
   "metadata": {
    "ExecuteTime": {
     "end_time": "2021-02-25T13:07:40.558939Z",
     "start_time": "2021-02-25T13:07:40.547968Z"
    },
    "id": "uEOkkp9aFDOr"
   }
  },
  {
   "cell_type": "markdown",
   "source": [
    "Create a scatter plot of `pc1` and `pc2` below. Use the `colors` list above to color the observations by setting `c=colors`."
   ],
   "metadata": {
    "id": "3IrkGs-gFDOr"
   }
  },
  {
   "cell_type": "code",
   "execution_count": 15,
   "source": [
    "# Your code here:\r\n",
    "plt.scatter('pc1', 'pc2', c = 'colors', data = df);"
   ],
   "outputs": [
    {
     "output_type": "display_data",
     "data": {
      "image/png": "[encoded data removed]",
      "text/plain": [
       "<Figure size 432x288 with 1 Axes>"
      ]
     },
     "metadata": {
      "needs_background": "light"
     }
    }
   ],
   "metadata": {
    "ExecuteTime": {
     "end_time": "2021-02-25T13:07:44.414315Z",
     "start_time": "2021-02-25T13:07:44.398349Z"
    },
    "id": "-AbrrG-TFDOr"
   }
  },
  {
   "cell_type": "code",
   "execution_count": 16,
   "source": [
    "sns.scatterplot(x='pc1', y='pc2', hue = 'cat_dog', data = df);"
   ],
   "outputs": [
    {
     "output_type": "display_data",
     "data": {
      "image/png": "[encoded data removed]",
      "text/plain": [
       "<Figure size 432x288 with 1 Axes>"
      ]
     },
     "metadata": {
      "needs_background": "light"
     }
    }
   ],
   "metadata": {}
  },
  {
   "cell_type": "markdown",
   "source": [
    "Do you see a clear separation between cats and dogs? Write your answer below."
   ],
   "metadata": {
    "id": "I-meGOYBFDOs"
   }
  },
  {
   "cell_type": "code",
   "execution_count": 19,
   "source": [
    "# Your conclusions here:\r\n",
    "'''we can see a soft distinction between cats and dogs. \r\n",
    "Cats are higher on the graph. However, we cannot say with precision.'''"
   ],
   "outputs": [
    {
     "output_type": "execute_result",
     "data": {
      "text/plain": [
       "'we can see a soft distinction between cats and dogs. \\nCats are higher on the graph. However, we cannot say with precision.'"
      ]
     },
     "metadata": {},
     "execution_count": 19
    }
   ],
   "metadata": {
    "ExecuteTime": {
     "end_time": "2021-02-25T13:07:49.361753Z",
     "start_time": "2021-02-25T13:07:49.348769Z"
    },
    "id": "nBPHDwtIFDOs"
   }
  }
 ],
 "metadata": {
  "colab": {
   "collapsed_sections": [],
   "name": "pca-new.ipynb",
   "provenance": []
  },
  "kernelspec": {
   "name": "python3",
   "display_name": "Python 3.9.2 64-bit"
  },
  "language_info": {
   "codemirror_mode": {
    "name": "ipython",
    "version": 3
   },
   "file_extension": ".py",
   "mimetype": "text/x-python",
   "name": "python",
   "nbconvert_exporter": "python",
   "pygments_lexer": "ipython3",
   "version": "3.9.2"
  },
  "toc": {
   "base_numbering": 1,
   "nav_menu": {},
   "number_sections": true,
   "sideBar": true,
   "skip_h1_title": false,
   "title_cell": "Table of Contents",
   "title_sidebar": "Contents",
   "toc_cell": false,
   "toc_position": {},
   "toc_section_display": true,
   "toc_window_display": false
  },
  "varInspector": {
   "cols": {
    "lenName": 16,
    "lenType": 16,
    "lenVar": 40
   },
   "kernels_config": {
    "python": {
     "delete_cmd_postfix": "",
     "delete_cmd_prefix": "del ",
     "library": "var_list.py",
     "varRefreshCmd": "print(var_dic_list())"
    },
    "r": {
     "delete_cmd_postfix": ") ",
     "delete_cmd_prefix": "rm(",
     "library": "var_list.r",
     "varRefreshCmd": "cat(var_dic_list()) "
    }
   },
   "types_to_exclude": [
    "module",
    "function",
    "builtin_function_or_method",
    "instance",
    "_Feature"
   ],
   "window_display": false
  },
  "interpreter": {
   "hash": "ac59ebe37160ed0dfa835113d9b8498d9f09ceb179beaac4002f036b9467c963"
  }
 },
 "nbformat": 4,
 "nbformat_minor": 1
}