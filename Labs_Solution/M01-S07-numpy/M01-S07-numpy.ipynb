{
 "cells": [
  {
   "cell_type": "markdown",
   "source": [
    "![Ironhack logo](https://i.imgur.com/1QgrNNw.png)\n",
    "\n",
    "# Lab | Numpy\n",
    "\n",
    "## Introduction\n",
    "\n",
    "An important ability of a data scientist/data engineer is to know where and how to find information that helps you to accomplish your work. In the exercise, you will both practice the Numpy features we discussed in the lesson and learn new features by looking up documentations and references.\n",
    "\n",
    "## Getting Started\n",
    "There are a bunch of comments which instruct what you are supposed to do step by step. Follow the order of the instructions from top to bottom. Read each instruction carefully and provide your answer beneath it. You should also test your answers to make sure your responses are correct. If one of your responses is incorrect, you may not be able to proceed because later responses may depend upon previous responses.\n",
    "\n",
    "\n",
    "## Resources\n",
    "\n",
    "Some of the questions in the assignment are not covered in our lesson. You will learn how to efficiently look up the information on your own. Below are some resources you can find the information you need.\n",
    "\n",
    "[Numpy User Guide](https://docs.scipy.org/doc/numpy/user/index.html)\n",
    "\n",
    "[Numpy Reference](https://docs.scipy.org/doc/numpy/reference/)\n",
    "\n",
    "[Google Search](https://www.google.com/search?q=how+to+use+numpy)\n",
    "\n"
   ],
   "metadata": {
    "colab_type": "text",
    "id": "mN9kpE7hMEP-"
   }
  },
  {
   "cell_type": "markdown",
   "source": [
    "# Intrduction to NumPy\n",
    "\n",
    "\n",
    "#### 1. Import NumPy under the name np."
   ],
   "metadata": {
    "colab_type": "text",
    "id": "-we_8UVrwCc1"
   }
  },
  {
   "cell_type": "code",
   "execution_count": 1,
   "source": [
    "import numpy as np"
   ],
   "outputs": [],
   "metadata": {
    "colab": {},
    "colab_type": "code",
    "id": "3fRJ8mtHwCc5"
   }
  },
  {
   "cell_type": "markdown",
   "source": [
    "#### 2. Print your NumPy version."
   ],
   "metadata": {
    "colab_type": "text",
    "id": "8Xtbl_EvwCc9"
   }
  },
  {
   "cell_type": "code",
   "execution_count": 2,
   "source": [
    "np.__version__"
   ],
   "outputs": [
    {
     "output_type": "execute_result",
     "data": {
      "text/plain": [
       "'1.19.4'"
      ]
     },
     "metadata": {},
     "execution_count": 2
    }
   ],
   "metadata": {
    "colab": {},
    "colab_type": "code",
    "id": "BlegxuJVwCc-"
   }
  },
  {
   "cell_type": "markdown",
   "source": [
    "#### 3. Generate a 3x2x5 3-dimensional array with random values. Assign the array to variable *a*.\n",
    "\n",
    "**Example of output**:\n",
    "````python\n",
    "[[[0.29932768, 0.85812686, 0.75266145, 0.09278988, 0.78358352],\n",
    "  [0.13437453, 0.65695946, 0.82047594, 0.09764179, 0.52230096]],\n",
    " \n",
    " [[0.54248247, 0.06431281, 0.65902257, 0.92736679, 0.3302839 ],\n",
    "  [0.86867236, 0.33960592, 0.62295821, 0.74563567, 0.24351584]],\n",
    " \n",
    " [[0.21276812, 0.06917533, 0.35106591, 0.82273425, 0.7910178 ],\n",
    "  [0.37768961, 0.56107736, 0.99965953, 0.97615549, 0.2445537 ]]]\n",
    "````"
   ],
   "metadata": {
    "colab_type": "text",
    "id": "FpKgyatowCdC"
   }
  },
  {
   "cell_type": "code",
   "execution_count": 3,
   "source": [
    "a = np.random.random((3,2,5))"
   ],
   "outputs": [],
   "metadata": {
    "colab": {},
    "colab_type": "code",
    "id": "q6dKJNO4wCdH"
   }
  },
  {
   "cell_type": "markdown",
   "source": [
    "#### 4. Print *a*.\n"
   ],
   "metadata": {
    "colab_type": "text",
    "id": "aMHxBSCDwCdP"
   }
  },
  {
   "cell_type": "code",
   "execution_count": 4,
   "source": [
    "print(a)"
   ],
   "outputs": [
    {
     "output_type": "stream",
     "name": "stdout",
     "text": [
      "[[[0.01913701 0.94067702 0.5403711  0.87252042 0.57103202]\n",
      "  [0.88751363 0.39431417 0.77207192 0.58160217 0.81227803]]\n",
      "\n",
      " [[0.0026881  0.13492642 0.95944573 0.56109209 0.84261303]\n",
      "  [0.14696918 0.47607    0.47063801 0.18868872 0.12179845]]\n",
      "\n",
      " [[0.17996514 0.05309338 0.51373228 0.76184646 0.09670773]\n",
      "  [0.23414619 0.12540795 0.59082987 0.73591141 0.41276713]]]\n"
     ]
    }
   ],
   "metadata": {
    "colab": {},
    "colab_type": "code",
    "id": "N_NYL3pHwCdQ"
   }
  },
  {
   "cell_type": "markdown",
   "source": [
    "#### 5. Create a 5x2x3 3-dimensional array with all values equaling 1. Assign the array to variable *b*."
   ],
   "metadata": {
    "colab_type": "text",
    "id": "kws-mAPSwCdU"
   }
  },
  {
   "cell_type": "markdown",
   "source": [
    "Expected output:\n",
    "\n",
    "````python\n",
    "      [[[1, 1, 1],\n",
    "        [1, 1, 1]],\n",
    "\n",
    "       [[1, 1, 1],\n",
    "        [1, 1, 1]],\n",
    "\n",
    "       [[1, 1, 1],\n",
    "        [1, 1, 1]],\n",
    "\n",
    "       [[1, 1, 1],\n",
    "        [1, 1, 1]],\n",
    "\n",
    "       [[1, 1, 1],\n",
    "        [1, 1, 1]]]\n",
    "````"
   ],
   "metadata": {
    "colab_type": "text",
    "id": "SMAUJKLwJS-8"
   }
  },
  {
   "cell_type": "code",
   "execution_count": 5,
   "source": [
    "b = np.ones((5,2,3))"
   ],
   "outputs": [],
   "metadata": {
    "colab": {},
    "colab_type": "code",
    "id": "anCmbtrtwCdW"
   }
  },
  {
   "cell_type": "markdown",
   "source": [
    "#### 6. Print *b*.\n"
   ],
   "metadata": {
    "colab_type": "text",
    "id": "FsYdwPxPwCdZ"
   }
  },
  {
   "cell_type": "code",
   "execution_count": 6,
   "source": [
    "print(b)"
   ],
   "outputs": [
    {
     "output_type": "stream",
     "name": "stdout",
     "text": [
      "[[[1. 1. 1.]\n",
      "  [1. 1. 1.]]\n",
      "\n",
      " [[1. 1. 1.]\n",
      "  [1. 1. 1.]]\n",
      "\n",
      " [[1. 1. 1.]\n",
      "  [1. 1. 1.]]\n",
      "\n",
      " [[1. 1. 1.]\n",
      "  [1. 1. 1.]]\n",
      "\n",
      " [[1. 1. 1.]\n",
      "  [1. 1. 1.]]]\n"
     ]
    }
   ],
   "metadata": {
    "colab": {},
    "colab_type": "code",
    "id": "Y3rcPurpwCda"
   }
  },
  {
   "cell_type": "markdown",
   "source": [
    "#### 7. Do *a* and *b* have the same size? How do you prove that in Python code?"
   ],
   "metadata": {
    "colab_type": "text",
    "id": "hGblsnk5wCde"
   }
  },
  {
   "cell_type": "code",
   "execution_count": 7,
   "source": [
    "a.shape == b.shape"
   ],
   "outputs": [
    {
     "output_type": "execute_result",
     "data": {
      "text/plain": [
       "False"
      ]
     },
     "metadata": {},
     "execution_count": 7
    }
   ],
   "metadata": {
    "colab": {},
    "colab_type": "code",
    "id": "YmKeIpGWwCdf"
   }
  },
  {
   "cell_type": "markdown",
   "source": [
    "#### 8. Are you able to add *a* and *b*? Why or why not?\n"
   ],
   "metadata": {
    "colab_type": "text",
    "id": "o9UzXk9IwCdi"
   }
  },
  {
   "cell_type": "code",
   "execution_count": 8,
   "source": [
    "#they don't have the same shape\r\n",
    "a + b"
   ],
   "outputs": [
    {
     "output_type": "error",
     "ename": "ValueError",
     "evalue": "operands could not be broadcast together with shapes (3,2,5) (5,2,3) ",
     "traceback": [
      "\u001b[1;31m---------------------------------------------------------------------------\u001b[0m",
      "\u001b[1;31mValueError\u001b[0m                                Traceback (most recent call last)",
      "\u001b[1;32m<ipython-input-8-95a0f0e4c334>\u001b[0m in \u001b[0;36m<module>\u001b[1;34m\u001b[0m\n\u001b[0;32m      1\u001b[0m \u001b[1;31m#they don't have the same shape\u001b[0m\u001b[1;33m\u001b[0m\u001b[1;33m\u001b[0m\u001b[1;33m\u001b[0m\u001b[0m\n\u001b[1;32m----> 2\u001b[1;33m \u001b[0ma\u001b[0m \u001b[1;33m+\u001b[0m \u001b[0mb\u001b[0m\u001b[1;33m\u001b[0m\u001b[1;33m\u001b[0m\u001b[0m\n\u001b[0m",
      "\u001b[1;31mValueError\u001b[0m: operands could not be broadcast together with shapes (3,2,5) (5,2,3) "
     ]
    }
   ],
   "metadata": {
    "colab": {},
    "colab_type": "code",
    "id": "drdAyKPywCdj"
   }
  },
  {
   "cell_type": "markdown",
   "source": [
    "#### 9. Reshape *b* so that it has the same structure of *a* (i.e. become a 3x2x5 array). Assign the reshaped array to variable *c*.\n",
    "*Hint: The tranpose of 5x2x3 is 3x2x5*\n",
    "\n",
    "Expected output:\n",
    "\n",
    "````python\n",
    "      [[[1, 1, 1, 1, 1],\n",
    "        [1, 1, 1, 1, 1]],\n",
    "\n",
    "       [[1, 1, 1, 1, 1],\n",
    "        [1, 1, 1, 1, 1]],\n",
    "\n",
    "       [[1, 1, 1, 1, 1],\n",
    "        [1, 1, 1, 1, 1]]]\n",
    "````"
   ],
   "metadata": {
    "colab_type": "text",
    "id": "DTsSOpvYwCdm"
   }
  },
  {
   "cell_type": "code",
   "execution_count": 9,
   "source": [
    "c = b.T"
   ],
   "outputs": [],
   "metadata": {
    "colab": {},
    "colab_type": "code",
    "id": "DjLlRJUtwCdn"
   }
  },
  {
   "cell_type": "markdown",
   "source": [
    "#### 10. Try to add *a* and *c*. Now it should work. Assign the sum to variable *d*. But why does it work now?"
   ],
   "metadata": {
    "colab_type": "text",
    "id": "fvHocQ9EwCdq"
   }
  },
  {
   "cell_type": "code",
   "execution_count": 10,
   "source": [
    "#It works because they have the same shape"
   ],
   "outputs": [],
   "metadata": {}
  },
  {
   "cell_type": "code",
   "execution_count": 11,
   "source": [
    "#Method 1\r\n",
    "d = a + c\r\n",
    "print(d)"
   ],
   "outputs": [
    {
     "output_type": "stream",
     "name": "stdout",
     "text": [
      "[[[1.01913701 1.94067702 1.5403711  1.87252042 1.57103202]\n",
      "  [1.88751363 1.39431417 1.77207192 1.58160217 1.81227803]]\n",
      "\n",
      " [[1.0026881  1.13492642 1.95944573 1.56109209 1.84261303]\n",
      "  [1.14696918 1.47607    1.47063801 1.18868872 1.12179845]]\n",
      "\n",
      " [[1.17996514 1.05309338 1.51373228 1.76184646 1.09670773]\n",
      "  [1.23414619 1.12540795 1.59082987 1.73591141 1.41276713]]]\n"
     ]
    }
   ],
   "metadata": {
    "colab": {},
    "colab_type": "code",
    "id": "Ohf5yh5ZwCdr"
   }
  },
  {
   "cell_type": "code",
   "execution_count": 12,
   "source": [
    "#Method 2\r\n",
    "d = np.add(a, c)\r\n",
    "print(d)"
   ],
   "outputs": [
    {
     "output_type": "stream",
     "name": "stdout",
     "text": [
      "[[[1.01913701 1.94067702 1.5403711  1.87252042 1.57103202]\n",
      "  [1.88751363 1.39431417 1.77207192 1.58160217 1.81227803]]\n",
      "\n",
      " [[1.0026881  1.13492642 1.95944573 1.56109209 1.84261303]\n",
      "  [1.14696918 1.47607    1.47063801 1.18868872 1.12179845]]\n",
      "\n",
      " [[1.17996514 1.05309338 1.51373228 1.76184646 1.09670773]\n",
      "  [1.23414619 1.12540795 1.59082987 1.73591141 1.41276713]]]\n"
     ]
    }
   ],
   "metadata": {}
  },
  {
   "cell_type": "markdown",
   "source": [
    "#### 11. Print *a* and *d*. Notice the difference and relation of the two array in terms of the values? Explain."
   ],
   "metadata": {
    "colab_type": "text",
    "id": "DuQBMzQBwCdw"
   }
  },
  {
   "cell_type": "code",
   "execution_count": 13,
   "source": [
    "print(a)"
   ],
   "outputs": [
    {
     "output_type": "stream",
     "name": "stdout",
     "text": [
      "[[[0.01913701 0.94067702 0.5403711  0.87252042 0.57103202]\n",
      "  [0.88751363 0.39431417 0.77207192 0.58160217 0.81227803]]\n",
      "\n",
      " [[0.0026881  0.13492642 0.95944573 0.56109209 0.84261303]\n",
      "  [0.14696918 0.47607    0.47063801 0.18868872 0.12179845]]\n",
      "\n",
      " [[0.17996514 0.05309338 0.51373228 0.76184646 0.09670773]\n",
      "  [0.23414619 0.12540795 0.59082987 0.73591141 0.41276713]]]\n"
     ]
    }
   ],
   "metadata": {
    "colab": {},
    "colab_type": "code",
    "id": "gEuh7iv1wCdx",
    "scrolled": true
   }
  },
  {
   "cell_type": "code",
   "execution_count": 14,
   "source": [
    "print(d)"
   ],
   "outputs": [
    {
     "output_type": "stream",
     "name": "stdout",
     "text": [
      "[[[1.01913701 1.94067702 1.5403711  1.87252042 1.57103202]\n",
      "  [1.88751363 1.39431417 1.77207192 1.58160217 1.81227803]]\n",
      "\n",
      " [[1.0026881  1.13492642 1.95944573 1.56109209 1.84261303]\n",
      "  [1.14696918 1.47607    1.47063801 1.18868872 1.12179845]]\n",
      "\n",
      " [[1.17996514 1.05309338 1.51373228 1.76184646 1.09670773]\n",
      "  [1.23414619 1.12540795 1.59082987 1.73591141 1.41276713]]]\n"
     ]
    }
   ],
   "metadata": {
    "scrolled": true
   }
  },
  {
   "cell_type": "code",
   "execution_count": 15,
   "source": [
    "#the values in d are equal to the a values + 1 in the corresponding positions"
   ],
   "outputs": [],
   "metadata": {}
  },
  {
   "cell_type": "markdown",
   "source": [
    "#### 12. Multiply *a* and *c*. Assign the result to *e*."
   ],
   "metadata": {
    "colab_type": "text",
    "id": "Ka1popJ3wCd0"
   }
  },
  {
   "cell_type": "code",
   "execution_count": 16,
   "source": [
    "# Method 1\r\n",
    "e = a * c"
   ],
   "outputs": [],
   "metadata": {
    "colab": {},
    "colab_type": "code",
    "id": "hLeCMiSEwCd1"
   }
  },
  {
   "cell_type": "code",
   "execution_count": 17,
   "source": [
    "# Method 2\r\n",
    "e = np.multiply(a, c)"
   ],
   "outputs": [],
   "metadata": {}
  },
  {
   "cell_type": "code",
   "execution_count": 18,
   "source": [
    "print(e)"
   ],
   "outputs": [
    {
     "output_type": "stream",
     "name": "stdout",
     "text": [
      "[[[0.01913701 0.94067702 0.5403711  0.87252042 0.57103202]\n",
      "  [0.88751363 0.39431417 0.77207192 0.58160217 0.81227803]]\n",
      "\n",
      " [[0.0026881  0.13492642 0.95944573 0.56109209 0.84261303]\n",
      "  [0.14696918 0.47607    0.47063801 0.18868872 0.12179845]]\n",
      "\n",
      " [[0.17996514 0.05309338 0.51373228 0.76184646 0.09670773]\n",
      "  [0.23414619 0.12540795 0.59082987 0.73591141 0.41276713]]]\n"
     ]
    }
   ],
   "metadata": {}
  },
  {
   "cell_type": "markdown",
   "source": [
    "#### 13. Does *e* equal to *a*? Why or why not?\n"
   ],
   "metadata": {
    "colab_type": "text",
    "id": "1QCqP6lMwCd5"
   }
  },
  {
   "cell_type": "code",
   "execution_count": 19,
   "source": [
    "# yes, array 'e' is equal to 'a' because they have equal values and shape\r\n",
    "#since all the values in c were 1 the multiplication results are the same\r\n",
    "e == a"
   ],
   "outputs": [
    {
     "output_type": "execute_result",
     "data": {
      "text/plain": [
       "array([[[ True,  True,  True,  True,  True],\n",
       "        [ True,  True,  True,  True,  True]],\n",
       "\n",
       "       [[ True,  True,  True,  True,  True],\n",
       "        [ True,  True,  True,  True,  True]],\n",
       "\n",
       "       [[ True,  True,  True,  True,  True],\n",
       "        [ True,  True,  True,  True,  True]]])"
      ]
     },
     "metadata": {},
     "execution_count": 19
    }
   ],
   "metadata": {
    "colab": {},
    "colab_type": "code",
    "id": "oxoat0cbwCd6",
    "scrolled": true
   }
  },
  {
   "cell_type": "code",
   "execution_count": 20,
   "source": [
    "print(a.shape)\r\n",
    "print(e.shape)"
   ],
   "outputs": [
    {
     "output_type": "stream",
     "name": "stdout",
     "text": [
      "(3, 2, 5)\n",
      "(3, 2, 5)\n"
     ]
    }
   ],
   "metadata": {}
  },
  {
   "cell_type": "markdown",
   "source": [
    "#### 14. Identify the max, min, and mean values in *d*. Assign those values to variables *d_max*, *d_min* and *d_mean*."
   ],
   "metadata": {
    "colab_type": "text",
    "id": "b7ceZMcswCd9"
   }
  },
  {
   "cell_type": "code",
   "execution_count": 21,
   "source": [
    "d_max = d.max()\r\n",
    "print(d_max)"
   ],
   "outputs": [
    {
     "output_type": "stream",
     "name": "stdout",
     "text": [
      "1.9594457320426586\n"
     ]
    }
   ],
   "metadata": {
    "colab": {},
    "colab_type": "code",
    "id": "ljd7J4ucwCd-"
   }
  },
  {
   "cell_type": "code",
   "execution_count": 22,
   "source": [
    "d_min = d.min()\r\n",
    "print(d_min)"
   ],
   "outputs": [
    {
     "output_type": "stream",
     "name": "stdout",
     "text": [
      "1.0026881037784936\n"
     ]
    }
   ],
   "metadata": {}
  },
  {
   "cell_type": "code",
   "execution_count": 23,
   "source": [
    "d_mean = d.mean()\r\n",
    "print(d_mean)"
   ],
   "outputs": [
    {
     "output_type": "stream",
     "name": "stdout",
     "text": [
      "1.4666951589472652\n"
     ]
    }
   ],
   "metadata": {}
  }
 ],
 "metadata": {
  "colab": {
   "collapsed_sections": [],
   "name": "main.ipynb",
   "provenance": []
  },
  "kernelspec": {
   "name": "python3",
   "display_name": "Python 3.9.0 64-bit"
  },
  "language_info": {
   "codemirror_mode": {
    "name": "ipython",
    "version": 3
   },
   "file_extension": ".py",
   "mimetype": "text/x-python",
   "name": "python",
   "nbconvert_exporter": "python",
   "pygments_lexer": "ipython3",
   "version": "3.9.0"
  },
  "toc": {
   "base_numbering": 1,
   "nav_menu": {},
   "number_sections": true,
   "sideBar": true,
   "skip_h1_title": false,
   "title_cell": "Table of Contents",
   "title_sidebar": "Contents",
   "toc_cell": false,
   "toc_position": {},
   "toc_section_display": true,
   "toc_window_display": false
  },
  "varInspector": {
   "cols": {
    "lenName": 16,
    "lenType": 16,
    "lenVar": 40
   },
   "kernels_config": {
    "python": {
     "delete_cmd_postfix": "",
     "delete_cmd_prefix": "del ",
     "library": "var_list.py",
     "varRefreshCmd": "print(var_dic_list())"
    },
    "r": {
     "delete_cmd_postfix": ") ",
     "delete_cmd_prefix": "rm(",
     "library": "var_list.r",
     "varRefreshCmd": "cat(var_dic_list()) "
    }
   },
   "types_to_exclude": [
    "module",
    "function",
    "builtin_function_or_method",
    "instance",
    "_Feature"
   ],
   "window_display": false
  },
  "interpreter": {
   "hash": "ac59ebe37160ed0dfa835113d9b8498d9f09ceb179beaac4002f036b9467c963"
  }
 },
 "nbformat": 4,
 "nbformat_minor": 1
}