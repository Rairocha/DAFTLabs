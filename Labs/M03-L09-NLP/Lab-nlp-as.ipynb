{
 "cells": [
  {
   "cell_type": "code",
   "execution_count": 52,
   "metadata": {
    "ExecuteTime": {
     "end_time": "2023-03-02T11:17:54.604570Z",
     "start_time": "2023-03-02T11:17:54.592876Z"
    }
   },
   "outputs": [],
   "source": [
    "import pandas as pd\n",
    "import requests\n",
    "import re\n",
    "from bs4 import BeautifulSoup\n",
    "from tqdm.auto import tqdm\n",
    "from sklearn.metrics import confusion_matrix\n",
    "from multiprocess import Pool\n",
    "import seaborn as sns"
   ]
  },
  {
   "cell_type": "markdown",
   "metadata": {},
   "source": [
    "# Vamos fazer um webscraping das letras de músicas de um artista usando o site vagalume"
   ]
  },
  {
   "cell_type": "code",
   "execution_count": 53,
   "metadata": {
    "ExecuteTime": {
     "end_time": "2023-03-02T11:17:55.583110Z",
     "start_time": "2023-03-02T11:17:55.328353Z"
    }
   },
   "outputs": [],
   "source": [
    "nome_artista = 'chiclete-com-banana/'\n",
    "url_chiclete = f'https://www.vagalume.com.br/{nome_artista}'\n",
    "response = requests.get(url_chiclete)\n",
    "\n",
    "\n",
    "soup = BeautifulSoup(response.content)"
   ]
  },
  {
   "cell_type": "markdown",
   "metadata": {},
   "source": [
    "## Ache na página o link para as músicas do artista"
   ]
  },
  {
   "cell_type": "code",
   "execution_count": 54,
   "metadata": {
    "ExecuteTime": {
     "end_time": "2023-03-02T11:17:57.125075Z",
     "start_time": "2023-03-02T11:17:57.087213Z"
    }
   },
   "outputs": [
    {
     "data": {
      "text/plain": [
       "['https://www.vagalume.com.br/chiclete-com-banana/contando-as-horas.html',\n",
       " 'https://www.vagalume.com.br/chiclete-com-banana/deixa-meu-amor-te-levar.html',\n",
       " 'https://www.vagalume.com.br/chiclete-com-banana/100-voce.html',\n",
       " 'https://www.vagalume.com.br/chiclete-com-banana/diga-que-valeu.html',\n",
       " 'https://www.vagalume.com.br/chiclete-com-banana/amor-perfeito.html',\n",
       " 'https://www.vagalume.com.br/chiclete-com-banana/selva-branca.html',\n",
       " 'https://www.vagalume.com.br/chiclete-com-banana/se-me-chamar-eu-vou.html',\n",
       " 'https://www.vagalume.com.br/chiclete-com-banana/voa-voa.html',\n",
       " 'https://www.vagalume.com.br/chiclete-com-banana/nao-vou-chorar.html',\n",
       " 'https://www.vagalume.com.br/chiclete-com-banana/quero-chiclete.html',\n",
       " 'https://www.vagalume.com.br/chiclete-com-banana/rumba-de-santa-clara.html',\n",
       " 'https://www.vagalume.com.br/chiclete-com-banana/foi-por-esse-amor.html',\n",
       " 'https://www.vagalume.com.br/chiclete-com-banana/menina-me-da-seu-amor.html',\n",
       " 'https://www.vagalume.com.br/chiclete-com-banana/cabelo-raspadinho.html',\n",
       " 'https://www.vagalume.com.br/chiclete-com-banana/vumbora-amar.html',\n",
       " 'https://www.vagalume.com.br/chiclete-com-banana/nana-banana.html',\n",
       " 'https://www.vagalume.com.br/chiclete-com-banana/grito-de-guerra-2.html',\n",
       " 'https://www.vagalume.com.br/chiclete-com-banana/forca-e-pudor.html',\n",
       " 'https://www.vagalume.com.br/chiclete-com-banana/eu-quero-amar-voce.html',\n",
       " 'https://www.vagalume.com.br/chiclete-com-banana/meu-cabelo-duro-e-assim.html',\n",
       " 'https://www.vagalume.com.br/chiclete-com-banana/a-fila-andou.html',\n",
       " 'https://www.vagalume.com.br/chiclete-com-banana/flutuar.html',\n",
       " 'https://www.vagalume.com.br/chiclete-com-banana/cara-caramba-sou-camaleao.html',\n",
       " 'https://www.vagalume.com.br/chiclete-com-banana/foi-deus.html',\n",
       " 'https://www.vagalume.com.br/chiclete-com-banana/saia-rodada.html',\n",
       " 'https://www.vagalume.com.br/chiclete-com-banana/100-voce.html',\n",
       " 'https://www.vagalume.com.br/chiclete-com-banana/a-cor-da-vida.html',\n",
       " 'https://www.vagalume.com.br/chiclete-com-banana/a-dona-do-terreiro.html',\n",
       " 'https://www.vagalume.com.br/chiclete-com-banana/a-fila-andou.html',\n",
       " 'https://www.vagalume.com.br/chiclete-com-banana/a-minha-fantasia-era-voce.html',\n",
       " 'https://www.vagalume.com.br/chiclete-com-banana/abc-do-prazer.html',\n",
       " 'https://www.vagalume.com.br/chiclete-com-banana/abra-seu-coracao.html',\n",
       " 'https://www.vagalume.com.br/chiclete-com-banana/abraco-de-quintal.html',\n",
       " 'https://www.vagalume.com.br/chiclete-com-banana/acredite-se-quiser.html',\n",
       " 'https://www.vagalume.com.br/chiclete-com-banana/ae-ae-do-amor.html',\n",
       " 'https://www.vagalume.com.br/chiclete-com-banana/ai-eu-to-maluco.html',\n",
       " 'https://www.vagalume.com.br/chiclete-com-banana/alma-gemea.html',\n",
       " 'https://www.vagalume.com.br/chiclete-com-banana/amar-e-bom.html',\n",
       " 'https://www.vagalume.com.br/chiclete-com-banana/amar-e-bomdiga-espelho-meu.html',\n",
       " 'https://www.vagalume.com.br/chiclete-com-banana/amar-voce-nao-doi.html',\n",
       " 'https://www.vagalume.com.br/chiclete-com-banana/amar-voce-nao-doi-vem.html',\n",
       " 'https://www.vagalume.com.br/chiclete-com-banana/americanizou-pra-valer.html',\n",
       " 'https://www.vagalume.com.br/chiclete-com-banana/amor-da-minha-vida.html',\n",
       " 'https://www.vagalume.com.br/chiclete-com-banana/amor-perfeito.html',\n",
       " 'https://www.vagalume.com.br/chiclete-com-banana/ana-bonita.html',\n",
       " 'https://www.vagalume.com.br/chiclete-com-banana/anjo-marginal.html',\n",
       " 'https://www.vagalume.com.br/chiclete-com-banana/aririo.html',\n",
       " 'https://www.vagalume.com.br/chiclete-com-banana/ate-o-carnaval-trazer-todo-axe.html',\n",
       " 'https://www.vagalume.com.br/chiclete-com-banana/atras-do-caminhao.html',\n",
       " 'https://www.vagalume.com.br/chiclete-com-banana/bala-na-agulha.html',\n",
       " 'https://www.vagalume.com.br/chiclete-com-banana/balancar-o-abada.html',\n",
       " 'https://www.vagalume.com.br/chiclete-com-banana/balanco-do-camaleao.html',\n",
       " 'https://www.vagalume.com.br/chiclete-com-banana/balanco-do-chiclete.html',\n",
       " 'https://www.vagalume.com.br/chiclete-com-banana/balao-dourado.html',\n",
       " 'https://www.vagalume.com.br/chiclete-com-banana/banana-metal.html',\n",
       " 'https://www.vagalume.com.br/chiclete-com-banana/banana-real.html',\n",
       " 'https://www.vagalume.com.br/chiclete-com-banana/bateu-saudade.html',\n",
       " 'https://www.vagalume.com.br/chiclete-com-banana/batuque-da-massa.html',\n",
       " 'https://www.vagalume.com.br/chiclete-com-banana/batuque-do-cais.html',\n",
       " 'https://www.vagalume.com.br/chiclete-com-banana/beijo-cigano.html',\n",
       " 'https://www.vagalume.com.br/chiclete-com-banana/beijo-em-alto-mar.html',\n",
       " 'https://www.vagalume.com.br/chiclete-com-banana/belo-camaleao.html',\n",
       " 'https://www.vagalume.com.br/chiclete-com-banana/bem-vindo-ao-mar.html',\n",
       " 'https://www.vagalume.com.br/chiclete-com-banana/boca-do-povo.html',\n",
       " 'https://www.vagalume.com.br/chiclete-com-banana/boi-da-cara-preta.html',\n",
       " 'https://www.vagalume.com.br/chiclete-com-banana/bombonieri.html',\n",
       " 'https://www.vagalume.com.br/chiclete-com-banana/broto.html',\n",
       " 'https://www.vagalume.com.br/chiclete-com-banana/cabelo-raspadinho.html',\n",
       " 'https://www.vagalume.com.br/chiclete-com-banana/cade-a-feira.html',\n",
       " 'https://www.vagalume.com.br/chiclete-com-banana/camalionina.html',\n",
       " 'https://www.vagalume.com.br/chiclete-com-banana/canto-do-alede.html',\n",
       " 'https://www.vagalume.com.br/chiclete-com-banana/cara-caramba-sou-camaleao.html',\n",
       " 'https://www.vagalume.com.br/chiclete-com-banana/cara-caricias.html',\n",
       " 'https://www.vagalume.com.br/chiclete-com-banana/carnaval-beijo-na-boca.html',\n",
       " 'https://www.vagalume.com.br/chiclete-com-banana/casamento-nao.html',\n",
       " 'https://www.vagalume.com.br/chiclete-com-banana/chamego.html',\n",
       " 'https://www.vagalume.com.br/chiclete-com-banana/chiclete-chopp-com-banana.html',\n",
       " 'https://www.vagalume.com.br/chiclete-com-banana/chiclete-na-boca.html',\n",
       " 'https://www.vagalume.com.br/chiclete-com-banana/chiclete-no-coracao.html',\n",
       " 'https://www.vagalume.com.br/chiclete-com-banana/chiclete-sem-moderacao.html',\n",
       " 'https://www.vagalume.com.br/chiclete-com-banana/chicleteiro-eu-chicleteira-ela.html',\n",
       " 'https://www.vagalume.com.br/chiclete-com-banana/chicleteou.html',\n",
       " 'https://www.vagalume.com.br/chiclete-com-banana/chorarei-amor.html',\n",
       " 'https://www.vagalume.com.br/chiclete-com-banana/cidadao.html',\n",
       " 'https://www.vagalume.com.br/chiclete-com-banana/colado-no-chiclete.html',\n",
       " 'https://www.vagalume.com.br/chiclete-com-banana/colar-do-oriente.html',\n",
       " 'https://www.vagalume.com.br/chiclete-com-banana/colar-na-procissao.html',\n",
       " 'https://www.vagalume.com.br/chiclete-com-banana/colombina.html',\n",
       " 'https://www.vagalume.com.br/chiclete-com-banana/cometa-mambembe.html',\n",
       " 'https://www.vagalume.com.br/chiclete-com-banana/contando-as-horas.html',\n",
       " 'https://www.vagalume.com.br/chiclete-com-banana/coracao-batucador.html',\n",
       " 'https://www.vagalume.com.br/chiclete-com-banana/coracao-incerto.html',\n",
       " 'https://www.vagalume.com.br/chiclete-com-banana/cuida-de-mim.html',\n",
       " 'https://www.vagalume.com.br/chiclete-com-banana/dandalunda.html',\n",
       " 'https://www.vagalume.com.br/chiclete-com-banana/dar-a-volta-no-brasil.html',\n",
       " 'https://www.vagalume.com.br/chiclete-com-banana/de-bem-com-a-vida.html',\n",
       " 'https://www.vagalume.com.br/chiclete-com-banana/de-bracos-abertos.html',\n",
       " 'https://www.vagalume.com.br/chiclete-com-banana/de-um-grito-ai.html',\n",
       " 'https://www.vagalume.com.br/chiclete-com-banana/deixa-meu-amor-te-levar.html',\n",
       " 'https://www.vagalume.com.br/chiclete-com-banana/delicia-para-ti.html',\n",
       " 'https://www.vagalume.com.br/chiclete-com-banana/desculpa-ae-pa-pa.html',\n",
       " 'https://www.vagalume.com.br/chiclete-com-banana/desejo-de-amar.html',\n",
       " 'https://www.vagalume.com.br/chiclete-com-banana/deuses-da-avenida.html',\n",
       " 'https://www.vagalume.com.br/chiclete-com-banana/diferentemente-lindo.html',\n",
       " 'https://www.vagalume.com.br/chiclete-com-banana/diga-pra-mim.html',\n",
       " 'https://www.vagalume.com.br/chiclete-com-banana/diga-que-valeu.html',\n",
       " 'https://www.vagalume.com.br/chiclete-com-banana/dinora.html',\n",
       " 'https://www.vagalume.com.br/chiclete-com-banana/do-nosso-jeito.html',\n",
       " 'https://www.vagalume.com.br/chiclete-com-banana/dormi-na-praca.html',\n",
       " 'https://www.vagalume.com.br/chiclete-com-banana/durvalino-meu-rei.html',\n",
       " 'https://www.vagalume.com.br/chiclete-com-banana/e-dificil.html',\n",
       " 'https://www.vagalume.com.br/chiclete-com-banana/e-hoje.html',\n",
       " 'https://www.vagalume.com.br/chiclete-com-banana/e-nenhuma.html',\n",
       " 'https://www.vagalume.com.br/chiclete-com-banana/e-nunca-mais-vai-me-deixar.html',\n",
       " 'https://www.vagalume.com.br/chiclete-com-banana/e-serio.html',\n",
       " 'https://www.vagalume.com.br/chiclete-com-banana/e-so-voce-pedir.html',\n",
       " 'https://www.vagalume.com.br/chiclete-com-banana/baiana.html',\n",
       " 'https://www.vagalume.com.br/chiclete-com-banana/ele-nao-monta-na-lambreta.html',\n",
       " 'https://www.vagalume.com.br/chiclete-com-banana/erva-vevenosa.html',\n",
       " 'https://www.vagalume.com.br/chiclete-com-banana/essa-mulher-e-minha.html',\n",
       " 'https://www.vagalume.com.br/chiclete-com-banana/estacao-das-cores.html',\n",
       " 'https://www.vagalume.com.br/chiclete-com-banana/eu-e-voce-sempre.html',\n",
       " 'https://www.vagalume.com.br/chiclete-com-banana/eu-fui-atras-de-um-caminhao.html',\n",
       " 'https://www.vagalume.com.br/chiclete-com-banana/eu-quero-amar-voce.html',\n",
       " 'https://www.vagalume.com.br/chiclete-com-banana/eu-quero-esse-amor.html',\n",
       " 'https://www.vagalume.com.br/chiclete-com-banana/eu-sou-do-mundo-e-da-bahia.html',\n",
       " 'https://www.vagalume.com.br/chiclete-com-banana/eu-sou-soteropolitano.html',\n",
       " 'https://www.vagalume.com.br/chiclete-com-banana/eu-vou-te-amar.html',\n",
       " 'https://www.vagalume.com.br/chiclete-com-banana/fazendo-falta.html',\n",
       " 'https://www.vagalume.com.br/chiclete-com-banana/fazer-amor.html',\n",
       " 'https://www.vagalume.com.br/chiclete-com-banana/fazer-o-que-cidadao.html',\n",
       " 'https://www.vagalume.com.br/chiclete-com-banana/fe-brasileira.html',\n",
       " 'https://www.vagalume.com.br/chiclete-com-banana/feijoda-do-vizinho.html',\n",
       " 'https://www.vagalume.com.br/chiclete-com-banana/feitico-gelado.html',\n",
       " 'https://www.vagalume.com.br/chiclete-com-banana/flor-da-manha.html',\n",
       " 'https://www.vagalume.com.br/chiclete-com-banana/flores-de-jasmim.html',\n",
       " 'https://www.vagalume.com.br/chiclete-com-banana/flutuar.html',\n",
       " 'https://www.vagalume.com.br/chiclete-com-banana/foi-assim.html',\n",
       " 'https://www.vagalume.com.br/chiclete-com-banana/foi-deus.html',\n",
       " 'https://www.vagalume.com.br/chiclete-com-banana/foi-no-nana.html',\n",
       " 'https://www.vagalume.com.br/chiclete-com-banana/foi-por-esse-amor.html',\n",
       " 'https://www.vagalume.com.br/chiclete-com-banana/forca-e-pudor.html',\n",
       " 'https://www.vagalume.com.br/chiclete-com-banana/forro-da-tribo.html',\n",
       " 'https://www.vagalume.com.br/chiclete-com-banana/funk-bahia.html',\n",
       " 'https://www.vagalume.com.br/chiclete-com-banana/gesto-de-amor.html',\n",
       " 'https://www.vagalume.com.br/chiclete-com-banana/ginga.html',\n",
       " 'https://www.vagalume.com.br/chiclete-com-banana/grito-de-guerra-2.html',\n",
       " 'https://www.vagalume.com.br/chiclete-com-banana/i-love-you-chiclete.html',\n",
       " 'https://www.vagalume.com.br/chiclete-com-banana/ice.html',\n",
       " 'https://www.vagalume.com.br/chiclete-com-banana/jamaica.html',\n",
       " 'https://www.vagalume.com.br/chiclete-com-banana/janela-x-janela.html',\n",
       " 'https://www.vagalume.com.br/chiclete-com-banana/joia-preferida.html',\n",
       " 'https://www.vagalume.com.br/chiclete-com-banana/joinha.html',\n",
       " 'https://www.vagalume.com.br/chiclete-com-banana/lente-de-timbau.html',\n",
       " 'https://www.vagalume.com.br/chiclete-com-banana/levada-chicleteira.html',\n",
       " 'https://www.vagalume.com.br/chiclete-com-banana/lindo-e-viver.html',\n",
       " 'https://www.vagalume.com.br/chiclete-com-banana/lume-da-fogueira.html',\n",
       " 'https://www.vagalume.com.br/chiclete-com-banana/luz-da-vida.html',\n",
       " 'https://www.vagalume.com.br/chiclete-com-banana/macacos-me-mordam.html',\n",
       " 'https://www.vagalume.com.br/chiclete-com-banana/magia.html',\n",
       " 'https://www.vagalume.com.br/chiclete-com-banana/maimbe-danda.html',\n",
       " 'https://www.vagalume.com.br/chiclete-com-banana/mal-acostumado.html',\n",
       " 'https://www.vagalume.com.br/chiclete-com-banana/mama.html',\n",
       " 'https://www.vagalume.com.br/chiclete-com-banana/mar-de-rosas.html',\n",
       " 'https://www.vagalume.com.br/chiclete-com-banana/maracuja-pro-bebe.html',\n",
       " 'https://www.vagalume.com.br/chiclete-com-banana/maravilha-coisa-louca.html',\n",
       " 'https://www.vagalume.com.br/chiclete-com-banana/maria-moderna.html',\n",
       " 'https://www.vagalume.com.br/chiclete-com-banana/maria-raio.html',\n",
       " 'https://www.vagalume.com.br/chiclete-com-banana/me-pegue-se-quiser.html',\n",
       " 'https://www.vagalume.com.br/chiclete-com-banana/mega.html',\n",
       " 'https://www.vagalume.com.br/chiclete-com-banana/melissa.html',\n",
       " 'https://www.vagalume.com.br/chiclete-com-banana/menina-baiana-bela.html',\n",
       " 'https://www.vagalume.com.br/chiclete-com-banana/menina-do-caterete.html',\n",
       " 'https://www.vagalume.com.br/chiclete-com-banana/menina-linda-i-should-have-no-better.html',\n",
       " 'https://www.vagalume.com.br/chiclete-com-banana/menina-louca.html',\n",
       " 'https://www.vagalume.com.br/chiclete-com-banana/menina-me-da-seu-amor.html',\n",
       " 'https://www.vagalume.com.br/chiclete-com-banana/merengueira-siga-me.html',\n",
       " 'https://www.vagalume.com.br/chiclete-com-banana/meu-amor.html',\n",
       " 'https://www.vagalume.com.br/chiclete-com-banana/meu-balao.html',\n",
       " 'https://www.vagalume.com.br/chiclete-com-banana/meu-bem-quero-te-amar.html',\n",
       " 'https://www.vagalume.com.br/chiclete-com-banana/meu-cabelo-duro-e-assim.html',\n",
       " 'https://www.vagalume.com.br/chiclete-com-banana/meu-coracao-voou.html',\n",
       " 'https://www.vagalume.com.br/chiclete-com-banana/meu-pobre-coracao.html',\n",
       " 'https://www.vagalume.com.br/chiclete-com-banana/minha-paixao-e-chiclete.html',\n",
       " 'https://www.vagalume.com.br/chiclete-com-banana/minha-vida-e-voce.html',\n",
       " 'https://www.vagalume.com.br/chiclete-com-banana/mirando-o-luar.html',\n",
       " 'https://www.vagalume.com.br/chiclete-com-banana/misterio-das-estrelas.html',\n",
       " 'https://www.vagalume.com.br/chiclete-com-banana/morro-de-sao-paulo.html',\n",
       " 'https://www.vagalume.com.br/chiclete-com-banana/mude-esse-mundo-gritos-de-guerra-ii.html',\n",
       " 'https://www.vagalume.com.br/chiclete-com-banana/mulher-amada.html',\n",
       " 'https://www.vagalume.com.br/chiclete-com-banana/multirao-da-alegria.html',\n",
       " 'https://www.vagalume.com.br/chiclete-com-banana/musica-alegre.html',\n",
       " 'https://www.vagalume.com.br/chiclete-com-banana/na-fissura-do-cheiro.html',\n",
       " 'https://www.vagalume.com.br/chiclete-com-banana/na-onda-gostosa-do-quimbundo.html',\n",
       " 'https://www.vagalume.com.br/chiclete-com-banana/naire.html',\n",
       " 'https://www.vagalume.com.br/chiclete-com-banana/nana-banana.html',\n",
       " 'https://www.vagalume.com.br/chiclete-com-banana/nana-coracao.html',\n",
       " 'https://www.vagalume.com.br/chiclete-com-banana/nana-e.html',\n",
       " 'https://www.vagalume.com.br/chiclete-com-banana/nana-rumbeira.html',\n",
       " 'https://www.vagalume.com.br/chiclete-com-banana/nao-vou-chorar.html',\n",
       " 'https://www.vagalume.com.br/chiclete-com-banana/nao-vou-embora.html',\n",
       " 'https://www.vagalume.com.br/chiclete-com-banana/navego-a-toa.html',\n",
       " 'https://www.vagalume.com.br/chiclete-com-banana/no-balancar-da-mare.html',\n",
       " 'https://www.vagalume.com.br/chiclete-com-banana/no-balanco-do-chiclete.html',\n",
       " 'https://www.vagalume.com.br/chiclete-com-banana/no-woman-no-cry-nao-chore-mais.html',\n",
       " 'https://www.vagalume.com.br/chiclete-com-banana/noite-especial.html',\n",
       " 'https://www.vagalume.com.br/chiclete-com-banana/oh-minha-preta.html',\n",
       " 'https://www.vagalume.com.br/chiclete-com-banana/oi-o-mar.html',\n",
       " 'https://www.vagalume.com.br/chiclete-com-banana/olhar-99.html',\n",
       " 'https://www.vagalume.com.br/chiclete-com-banana/olhos-da-noite.html',\n",
       " 'https://www.vagalume.com.br/chiclete-com-banana/para-o-mundo-ver.html',\n",
       " 'https://www.vagalume.com.br/chiclete-com-banana/pe-de-moleque.html',\n",
       " 'https://www.vagalume.com.br/chiclete-com-banana/peixinho-fora-dagua.html',\n",
       " 'https://www.vagalume.com.br/chiclete-com-banana/perdido-de-amor.html',\n",
       " 'https://www.vagalume.com.br/chiclete-com-banana/perdoa-na-boa.html',\n",
       " 'https://www.vagalume.com.br/chiclete-com-banana/perfume-de-luar.html',\n",
       " 'https://www.vagalume.com.br/chiclete-com-banana/pistolera.html',\n",
       " 'https://www.vagalume.com.br/chiclete-com-banana/pode-chover.html',\n",
       " 'https://www.vagalume.com.br/chiclete-com-banana/pode-ser-uma-paixao.html',\n",
       " 'https://www.vagalume.com.br/chiclete-com-banana/por-um-beijo-seu.html',\n",
       " 'https://www.vagalume.com.br/chiclete-com-banana/potpouritmos-brasileiro-quadrilha.html',\n",
       " 'https://www.vagalume.com.br/chiclete-com-banana/pra-brincar-com-meu-amor.html',\n",
       " 'https://www.vagalume.com.br/chiclete-com-banana/pra-brincar-de-vida.html',\n",
       " 'https://www.vagalume.com.br/chiclete-com-banana/preciso-dormir-princesa.html',\n",
       " 'https://www.vagalume.com.br/chiclete-com-banana/quando-o-chiclete-passar.html',\n",
       " 'https://www.vagalume.com.br/chiclete-com-banana/quando-o-chiclete-toca.html',\n",
       " 'https://www.vagalume.com.br/chiclete-com-banana/que-forca-e-essa.html',\n",
       " 'https://www.vagalume.com.br/chiclete-com-banana/que-gata-e-essa-letras.html',\n",
       " 'https://www.vagalume.com.br/chiclete-com-banana/quem-e-voce.html',\n",
       " 'https://www.vagalume.com.br/chiclete-com-banana/quer-ir-mais-eu.html',\n",
       " 'https://www.vagalume.com.br/chiclete-com-banana/quero-chiclete.html',\n",
       " 'https://www.vagalume.com.br/chiclete-com-banana/quero-esse-sonho-pra-mim.html',\n",
       " 'https://www.vagalume.com.br/chiclete-com-banana/quero-rimar-chiclete-com-banana.html',\n",
       " 'https://www.vagalume.com.br/chiclete-com-banana/quiribamba.html',\n",
       " 'https://www.vagalume.com.br/chiclete-com-banana/rainha-negra.html',\n",
       " 'https://www.vagalume.com.br/chiclete-com-banana/rumba-de-santa-clara.html',\n",
       " 'https://www.vagalume.com.br/chiclete-com-banana/saia-rodada.html',\n",
       " 'https://www.vagalume.com.br/chiclete-com-banana/saliva-seca.html',\n",
       " 'https://www.vagalume.com.br/chiclete-com-banana/sara-sarara.html',\n",
       " 'https://www.vagalume.com.br/chiclete-com-banana/savassi.html',\n",
       " 'https://www.vagalume.com.br/chiclete-com-banana/se-me-chamar-eu-vou.html',\n",
       " 'https://www.vagalume.com.br/chiclete-com-banana/se-tem-chiclete-eu-to-la.html',\n",
       " 'https://www.vagalume.com.br/chiclete-com-banana/se-voce-e-25.html',\n",
       " 'https://www.vagalume.com.br/chiclete-com-banana/se-voce-e-chicleteiro.html',\n",
       " 'https://www.vagalume.com.br/chiclete-com-banana/segredo-da-cor.html',\n",
       " 'https://www.vagalume.com.br/chiclete-com-banana/sei-viver-por-um-triz.html',\n",
       " 'https://www.vagalume.com.br/chiclete-com-banana/selva-branca.html',\n",
       " 'https://www.vagalume.com.br/chiclete-com-banana/selvagem-camaleoa.html',\n",
       " 'https://www.vagalume.com.br/chiclete-com-banana/sementes.html',\n",
       " 'https://www.vagalume.com.br/chiclete-com-banana/setimo-ceu.html',\n",
       " 'https://www.vagalume.com.br/chiclete-com-banana/sim-ou-nao.html',\n",
       " 'https://www.vagalume.com.br/chiclete-com-banana/so-mais-uma-vez.html',\n",
       " 'https://www.vagalume.com.br/chiclete-com-banana/so-pra-viver.html',\n",
       " 'https://www.vagalume.com.br/chiclete-com-banana/so-vai-dar-eu-e-voce.html',\n",
       " 'https://www.vagalume.com.br/chiclete-com-banana/so-voce-e-meu-amor.html',\n",
       " 'https://www.vagalume.com.br/chiclete-com-banana/solidao.html',\n",
       " 'https://www.vagalume.com.br/chiclete-com-banana/solteiro-em-salvador.html',\n",
       " 'https://www.vagalume.com.br/chiclete-com-banana/sonifera-ilha.html',\n",
       " 'https://www.vagalume.com.br/chiclete-com-banana/sorria.html',\n",
       " 'https://www.vagalume.com.br/chiclete-com-banana/suinga-india.html',\n",
       " 'https://www.vagalume.com.br/chiclete-com-banana/swing-merengue.html',\n",
       " 'https://www.vagalume.com.br/chiclete-com-banana/ta-lisinho.html',\n",
       " 'https://www.vagalume.com.br/chiclete-com-banana/ta-procurando-sarna.html',\n",
       " 'https://www.vagalume.com.br/chiclete-com-banana/te-amo-tiete.html',\n",
       " 'https://www.vagalume.com.br/chiclete-com-banana/te-quero-todo-dia.html',\n",
       " 'https://www.vagalume.com.br/chiclete-com-banana/tem-que-ter-chiclete.html',\n",
       " 'https://www.vagalume.com.br/chiclete-com-banana/terra-de-oxala.html',\n",
       " 'https://www.vagalume.com.br/chiclete-com-banana/tiete-do-chiclete.html',\n",
       " 'https://www.vagalume.com.br/chiclete-com-banana/tire-o-cavalinho-da-chuva.html',\n",
       " 'https://www.vagalume.com.br/chiclete-com-banana/to-fazendu-falta.html',\n",
       " 'https://www.vagalume.com.br/chiclete-com-banana/to-na-multidao.html',\n",
       " 'https://www.vagalume.com.br/chiclete-com-banana/traz-os-montes.html',\n",
       " 'https://www.vagalume.com.br/chiclete-com-banana/tributo-a-ghandhy.html',\n",
       " 'https://www.vagalume.com.br/chiclete-com-banana/tropico-banana.html',\n",
       " 'https://www.vagalume.com.br/chiclete-com-banana/tudo-no-crediario.html',\n",
       " 'https://www.vagalume.com.br/chiclete-com-banana/uma-noiite-especial.html',\n",
       " 'https://www.vagalume.com.br/chiclete-com-banana/uma-noite-especial.html',\n",
       " 'https://www.vagalume.com.br/chiclete-com-banana/vai-chorar-ou-vai-sorrir.html',\n",
       " 'https://www.vagalume.com.br/chiclete-com-banana/vai-la-mane.html',\n",
       " 'https://www.vagalume.com.br/chiclete-com-banana/valeu.html',\n",
       " 'https://www.vagalume.com.br/chiclete-com-banana/vamos-dar-a-volta-no-brasil.html',\n",
       " 'https://www.vagalume.com.br/chiclete-com-banana/vem.html',\n",
       " 'https://www.vagalume.com.br/chiclete-com-banana/vem-nana.html',\n",
       " 'https://www.vagalume.com.br/chiclete-com-banana/vem-pra-ca-meu-bem.html',\n",
       " 'https://www.vagalume.com.br/chiclete-com-banana/viagem-alucinante.html',\n",
       " 'https://www.vagalume.com.br/chiclete-com-banana/voa-voa.html',\n",
       " 'https://www.vagalume.com.br/chiclete-com-banana/vou-deitar-e-rolar.html',\n",
       " 'https://www.vagalume.com.br/chiclete-com-banana/vou-voar.html',\n",
       " 'https://www.vagalume.com.br/chiclete-com-banana/vumbora-amar.html',\n",
       " 'https://www.vagalume.com.br/chiclete-com-banana/yle-aiye.html',\n",
       " 'https://www.vagalume.com.br/chiclete-com-banana/yle-farol.html',\n",
       " 'https://www.vagalume.com.br/chiclete-com-banana/zorra.html',\n",
       " 'https://www.vagalume.com.br/chiclete-com-banana/zum-zum-zum-pra-que.html']"
      ]
     },
     "execution_count": 54,
     "metadata": {},
     "output_type": "execute_result"
    }
   ],
   "source": [
    "\n",
    "\n",
    "musicas_chiclete = [ 'https://www.vagalume.com.br' + song['href'] \n",
    "                        for song in soup.find_all('a', attrs={'class': \"nameMusic\"})]\n",
    "\n",
    "musicas_chiclete"
   ]
  },
  {
   "cell_type": "markdown",
   "metadata": {},
   "source": [
    "## Para cada música encontrada no item anterior busque as letras da música e coloque em uma lista"
   ]
  },
  {
   "cell_type": "code",
   "execution_count": null,
   "metadata": {
    "ExecuteTime": {
     "end_time": "2023-03-02T11:18:38.842669Z",
     "start_time": "2023-03-02T11:18:01.719268Z"
    },
    "scrolled": false
   },
   "outputs": [],
   "source": [
    "text = []\n",
    "\n",
    "for each_song in tqdm(musicas_chiclete):\n",
    "    response = requests.get(each_song)\n",
    "    soup = BeautifulSoup(response.content)\n",
    "    text.append(re.sub('</?br/?>', ' ', soup.find('div', attrs={'id':'lyrics'}).decode_contents()))"
   ]
  },
  {
   "cell_type": "code",
   "execution_count": 60,
   "metadata": {
    "ExecuteTime": {
     "end_time": "2023-03-02T11:20:32.170167Z",
     "start_time": "2023-03-02T11:20:32.151203Z"
    }
   },
   "outputs": [
    {
     "data": {
      "text/plain": [
       "'Lê lê lê lê lê lê lê lê lê<br/>Lê lê lê lê lê<br/>Lá laiá laiá<br/><br/>Lê lê lê lê lê lê lê lê lê<br/>Lê lê lê lê lê<br/>Lá laiá laiá uôô<br/><br/>O que que você quer de mim, nêga<br/>O que que você quer de mim<br/>Diga logo, é só você pedir<br/>O que que você quer de mim (2x)<br/><br/>Já lhe dei jóia rara<br/>Comprei roupa cara e você não usou<br/>Lhe dei casa na praia, um apê lá na Barra<br/>E você não morou<br/>Já lhe dei os três dias do Camaleão, e o cd do<br/>Chiclete<br/>Já lhe dei os ingressos lá do camarote do show da<br/>Ivete<br/><br/>Lhe dei carro importado, todinho equipado<br/>E um computador<br/>Uma conta bancária com muito dinheiro<br/>E você não gastou<br/>Já lhe dei uma praça num bairro elegante lá em<br/>Salvador<br/>Não sei mais o que faço, e você me diz que só quer meu amor<br/><br/>O que que você quer de mim, nêga<br/>O que que você quer de mim<br/>Diga logo, é só você pedir<br/>O que que você quer de mim (2x)'"
      ]
     },
     "execution_count": 60,
     "metadata": {},
     "output_type": "execute_result"
    }
   ],
   "source": [
    "len(text)"
   ]
  },
  {
   "cell_type": "markdown",
   "metadata": {
    "ExecuteTime": {
     "end_time": "2023-03-02T10:58:54.401029Z",
     "start_time": "2023-03-02T10:58:54.391696Z"
    }
   },
   "source": [
    "## Crie um dataframe com a letra da música e o nome do artista"
   ]
  },
  {
   "cell_type": "code",
   "execution_count": 12,
   "metadata": {
    "ExecuteTime": {
     "end_time": "2023-03-02T11:02:07.097977Z",
     "start_time": "2023-03-02T11:02:07.073919Z"
    }
   },
   "outputs": [],
   "source": [
    "df = pd.DataFrame({'Lyrics':text,\n",
    "                   'Artist':len(text) * ['chiclete com banana']})"
   ]
  },
  {
   "cell_type": "code",
   "execution_count": null,
   "metadata": {},
   "outputs": [],
   "source": []
  },
  {
   "cell_type": "code",
   "execution_count": 6,
   "metadata": {
    "ExecuteTime": {
     "end_time": "2023-03-02T10:59:26.669010Z",
     "start_time": "2023-03-02T10:59:26.157265Z"
    }
   },
   "outputs": [],
   "source": [
    "url = 'https://www.vagalume.com.br/roberto-carlos/'\n",
    "response = requests.get(url)\n",
    "\n",
    "\n",
    "soup = BeautifulSoup(response.content)\n",
    "\n",
    "musicas = [ 'https://www.vagalume.com.br' + song['href'] for song in soup.find_all('a', attrs={'class': \"nameMusic\"})]\n",
    "# get same number of chiclete songs:\n",
    "musicas = musicas[:len(musicas_chiclete)]\n"
   ]
  },
  {
   "cell_type": "code",
   "execution_count": 7,
   "metadata": {
    "ExecuteTime": {
     "end_time": "2023-03-02T10:59:28.331036Z",
     "start_time": "2023-03-02T10:59:28.323330Z"
    }
   },
   "outputs": [
    {
     "data": {
      "text/plain": [
       "293"
      ]
     },
     "execution_count": 7,
     "metadata": {},
     "output_type": "execute_result"
    }
   ],
   "source": [
    "len(musicas)"
   ]
  },
  {
   "cell_type": "markdown",
   "metadata": {},
   "source": [
    "## Transforme o processo acima em uma função que receba como argumento de entrada o nome do artista, o retorno deve ser um dataframe com a letra da música e o nome do artista\n",
    "Você pode usar técnicas de paralelização para acelerar o processo de webscraping"
   ]
  },
  {
   "cell_type": "code",
   "execution_count": 9,
   "metadata": {
    "ExecuteTime": {
     "end_time": "2023-03-02T11:01:24.785917Z",
     "start_time": "2023-03-02T11:01:24.779366Z"
    }
   },
   "outputs": [],
   "source": [
    "def get_songs(each_song):\n",
    "    from bs4 import BeautifulSoup\n",
    "    import requests\n",
    "    import re\n",
    "    \n",
    "    response = requests.get(each_song)\n",
    "    soup = BeautifulSoup(response.content)\n",
    "    try:\n",
    "        text = re.sub('</?br/?>', ' ', soup.find('div', attrs={'id':'lyrics'}).decode_contents())\n",
    "    except:\n",
    "        text = ''\n",
    "    return text\n"
   ]
  },
  {
   "cell_type": "code",
   "execution_count": 10,
   "metadata": {
    "ExecuteTime": {
     "end_time": "2023-03-02T11:01:43.066787Z",
     "start_time": "2023-03-02T11:01:25.138084Z"
    }
   },
   "outputs": [],
   "source": [
    "# paralelizing code:\n",
    "\n",
    "from multiprocess import Pool\n",
    "pool = Pool(processes=6)\n",
    "results = pool.map(get_songs, musicas)\n"
   ]
  },
  {
   "cell_type": "code",
   "execution_count": 13,
   "metadata": {
    "ExecuteTime": {
     "end_time": "2023-03-02T11:02:11.986783Z",
     "start_time": "2023-03-02T11:02:11.964142Z"
    }
   },
   "outputs": [],
   "source": [
    "final_df = pd.concat([df,\n",
    "                      pd.DataFrame({'Lyrics':results,\n",
    "                                    'Artist':len(results) * ['roberto carlos']})\n",
    "                      ])"
   ]
  },
  {
   "cell_type": "code",
   "execution_count": 14,
   "metadata": {
    "ExecuteTime": {
     "end_time": "2023-03-02T11:02:13.808001Z",
     "start_time": "2023-03-02T11:02:13.795296Z"
    }
   },
   "outputs": [],
   "source": [
    "def get_artist(name, n_max=200):\n",
    "    \n",
    "    name = name.replace(' ', '-').lower()\n",
    "    url = 'https://www.vagalume.com.br/' + name\n",
    "    response = requests.get(url)\n",
    "    soup = BeautifulSoup(response.content)\n",
    "\n",
    "    musicas = [ 'https://www.vagalume.com.br' + song['href'] for song in soup.find_all('a', attrs={'class': \"nameMusic\"})]\n",
    "    pool = Pool(processes=6)\n",
    "    results = pool.map(get_songs, musicas)\n",
    "    data = pd.DataFrame({'Lyrics':results,\n",
    "                         'Artist':len(results) * [name]})\n",
    "                        \n",
    "    return data.sample(min(n_max, data.shape[0]))"
   ]
  },
  {
   "cell_type": "markdown",
   "metadata": {},
   "source": [
    "## Use a função para pelo menos três artistas e junte os dataframes resultantes"
   ]
  },
  {
   "cell_type": "code",
   "execution_count": 15,
   "metadata": {
    "ExecuteTime": {
     "end_time": "2023-03-02T11:03:01.661804Z",
     "start_time": "2023-03-02T11:02:15.186929Z"
    },
    "scrolled": true
   },
   "outputs": [],
   "source": [
    "final = pd.concat([\n",
    "    get_artist('Chiclete Com Banana'),\n",
    "    get_artist('Roberto Carlos'),\n",
    "    get_artist('Anitta')]\n",
    ")"
   ]
  },
  {
   "cell_type": "markdown",
   "metadata": {},
   "source": [
    "## O dataframe esta balanceado? Se não estiver use a técnica de undersampling(subamostragem) para balancear o dataframe"
   ]
  },
  {
   "cell_type": "code",
   "execution_count": 16,
   "metadata": {
    "ExecuteTime": {
     "end_time": "2023-03-02T11:03:24.754780Z",
     "start_time": "2023-03-02T11:03:24.720534Z"
    }
   },
   "outputs": [
    {
     "data": {
      "text/html": [
       "<div>\n",
       "<style scoped>\n",
       "    .dataframe tbody tr th:only-of-type {\n",
       "        vertical-align: middle;\n",
       "    }\n",
       "\n",
       "    .dataframe tbody tr th {\n",
       "        vertical-align: top;\n",
       "    }\n",
       "\n",
       "    .dataframe thead th {\n",
       "        text-align: right;\n",
       "    }\n",
       "</style>\n",
       "<table border=\"1\" class=\"dataframe\">\n",
       "  <thead>\n",
       "    <tr style=\"text-align: right;\">\n",
       "      <th></th>\n",
       "      <th>Lyrics</th>\n",
       "      <th>Artist</th>\n",
       "    </tr>\n",
       "  </thead>\n",
       "  <tbody>\n",
       "    <tr>\n",
       "      <th>108</th>\n",
       "      <td>Seu guarda, eu não sou vagabundo Eu não sou de...</td>\n",
       "      <td>chiclete-com-banana</td>\n",
       "    </tr>\n",
       "    <tr>\n",
       "      <th>265</th>\n",
       "      <td>Pererê Pererê Parabadá Pererê Pererê Paramauêr...</td>\n",
       "      <td>chiclete-com-banana</td>\n",
       "    </tr>\n",
       "    <tr>\n",
       "      <th>48</th>\n",
       "      <td>Eu fui atrás de um caminhão Fazer meu carnaval...</td>\n",
       "      <td>chiclete-com-banana</td>\n",
       "    </tr>\n",
       "    <tr>\n",
       "      <th>250</th>\n",
       "      <td>Escureceu na boca da mata Faltou comida na boc...</td>\n",
       "      <td>chiclete-com-banana</td>\n",
       "    </tr>\n",
       "    <tr>\n",
       "      <th>40</th>\n",
       "      <td>Sempre me lembro de você Com esse jeito tão es...</td>\n",
       "      <td>chiclete-com-banana</td>\n",
       "    </tr>\n",
       "    <tr>\n",
       "      <th>...</th>\n",
       "      <td>...</td>\n",
       "      <td>...</td>\n",
       "    </tr>\n",
       "    <tr>\n",
       "      <th>4</th>\n",
       "      <td>Yeah You already know what it is Yeah Talk to ...</td>\n",
       "      <td>anitta</td>\n",
       "    </tr>\n",
       "    <tr>\n",
       "      <th>64</th>\n",
       "      <td>Dime cómo hacemos Si tú me deseas y yo a ti ta...</td>\n",
       "      <td>anitta</td>\n",
       "    </tr>\n",
       "    <tr>\n",
       "      <th>111</th>\n",
       "      <td>Lembro que te vi caminhar Já havia um brilho n...</td>\n",
       "      <td>anitta</td>\n",
       "    </tr>\n",
       "    <tr>\n",
       "      <th>182</th>\n",
       "      <td>Um anjo do céu Que trouxe pra mim É a mais bon...</td>\n",
       "      <td>anitta</td>\n",
       "    </tr>\n",
       "    <tr>\n",
       "      <th>99</th>\n",
       "      <td>Jejeje Well  Freaky, si quiere' no' ponemo' fr...</td>\n",
       "      <td>anitta</td>\n",
       "    </tr>\n",
       "  </tbody>\n",
       "</table>\n",
       "<p>598 rows × 2 columns</p>\n",
       "</div>"
      ],
      "text/plain": [
       "                                                Lyrics               Artist\n",
       "108  Seu guarda, eu não sou vagabundo Eu não sou de...  chiclete-com-banana\n",
       "265  Pererê Pererê Parabadá Pererê Pererê Paramauêr...  chiclete-com-banana\n",
       "48   Eu fui atrás de um caminhão Fazer meu carnaval...  chiclete-com-banana\n",
       "250  Escureceu na boca da mata Faltou comida na boc...  chiclete-com-banana\n",
       "40   Sempre me lembro de você Com esse jeito tão es...  chiclete-com-banana\n",
       "..                                                 ...                  ...\n",
       "4    Yeah You already know what it is Yeah Talk to ...               anitta\n",
       "64   Dime cómo hacemos Si tú me deseas y yo a ti ta...               anitta\n",
       "111  Lembro que te vi caminhar Já havia um brilho n...               anitta\n",
       "182  Um anjo do céu Que trouxe pra mim É a mais bon...               anitta\n",
       "99   Jejeje Well  Freaky, si quiere' no' ponemo' fr...               anitta\n",
       "\n",
       "[598 rows x 2 columns]"
      ]
     },
     "execution_count": 16,
     "metadata": {},
     "output_type": "execute_result"
    }
   ],
   "source": [
    "final"
   ]
  },
  {
   "cell_type": "code",
   "execution_count": 17,
   "metadata": {
    "ExecuteTime": {
     "end_time": "2023-03-02T11:03:30.688739Z",
     "start_time": "2023-03-02T11:03:28.153330Z"
    }
   },
   "outputs": [
    {
     "name": "stderr",
     "output_type": "stream",
     "text": [
      "C:\\Users\\raian\\AppData\\Roaming\\Python\\Python38\\site-packages\\seaborn\\_decorators.py:36: FutureWarning: Pass the following variable as a keyword arg: x. From version 0.12, the only valid positional argument will be `data`, and passing other arguments without an explicit keyword will result in an error or misinterpretation.\n",
      "  warnings.warn(\n"
     ]
    },
    {
     "data": {
      "text/plain": [
       "<AxesSubplot:xlabel='Artist', ylabel='count'>"
      ]
     },
     "execution_count": 17,
     "metadata": {},
     "output_type": "execute_result"
    },
    {
     "data": {
      "image/png": "[encoded data removed]",
      "text/plain": [
       "<Figure size 640x480 with 1 Axes>"
      ]
     },
     "metadata": {},
     "output_type": "display_data"
    }
   ],
   "source": [
    "import seaborn as sns\n",
    "\n",
    "sns.countplot(final.Artist)"
   ]
  },
  {
   "cell_type": "markdown",
   "metadata": {},
   "source": [
    "# Crie um modelo de classificação para identificar que artista escreveu a música "
   ]
  },
  {
   "cell_type": "markdown",
   "metadata": {},
   "source": [
    "## Separe X e y"
   ]
  },
  {
   "cell_type": "code",
   "execution_count": 18,
   "metadata": {
    "ExecuteTime": {
     "end_time": "2023-03-02T11:09:18.695715Z",
     "start_time": "2023-03-02T11:09:18.691710Z"
    }
   },
   "outputs": [],
   "source": [
    "X = final['Lyrics']\n",
    "y = final.Artist"
   ]
  },
  {
   "cell_type": "markdown",
   "metadata": {},
   "source": [
    "## Separe treino e teste"
   ]
  },
  {
   "cell_type": "code",
   "execution_count": 19,
   "metadata": {
    "ExecuteTime": {
     "end_time": "2023-03-02T11:09:20.090705Z",
     "start_time": "2023-03-02T11:09:19.674413Z"
    }
   },
   "outputs": [],
   "source": [
    "from sklearn.model_selection import train_test_split\n",
    "\n",
    "X_train, X_test, y_train, y_test = train_test_split(X, y)"
   ]
  },
  {
   "cell_type": "markdown",
   "metadata": {},
   "source": [
    "## Faça a transformação da coluna em X com count vectorizer e Term Frequency Inverse frequency e a previsão com o modelo de classificação da sua escolha\n",
    "Se quiser um desafio extra pode usar técnicas de pipeline, caso as músicas forem em inglês pode experimentar técnicas de stematização e lemmatização"
   ]
  },
  {
   "cell_type": "code",
   "execution_count": 21,
   "metadata": {
    "ExecuteTime": {
     "end_time": "2023-03-02T11:09:29.428349Z",
     "start_time": "2023-03-02T11:09:29.274502Z"
    }
   },
   "outputs": [],
   "source": [
    "from sklearn.linear_model import LogisticRegression"
   ]
  },
  {
   "cell_type": "code",
   "execution_count": 22,
   "metadata": {
    "ExecuteTime": {
     "end_time": "2023-03-02T11:09:30.583016Z",
     "start_time": "2023-03-02T11:09:30.410672Z"
    },
    "scrolled": true
   },
   "outputs": [
    {
     "data": {
      "text/plain": [
       "array(['roberto-carlos', 'roberto-carlos', 'anitta', 'anitta',\n",
       "       'roberto-carlos', 'roberto-carlos', 'anitta', 'roberto-carlos',\n",
       "       'roberto-carlos', 'roberto-carlos', 'anitta', 'anitta',\n",
       "       'roberto-carlos', 'anitta', 'anitta', 'anitta', 'roberto-carlos',\n",
       "       'chiclete-com-banana', 'anitta', 'chiclete-com-banana',\n",
       "       'roberto-carlos', 'anitta', 'roberto-carlos', 'roberto-carlos',\n",
       "       'roberto-carlos', 'anitta', 'chiclete-com-banana',\n",
       "       'chiclete-com-banana', 'roberto-carlos', 'chiclete-com-banana',\n",
       "       'anitta', 'roberto-carlos', 'anitta', 'chiclete-com-banana',\n",
       "       'roberto-carlos', 'roberto-carlos', 'chiclete-com-banana',\n",
       "       'chiclete-com-banana', 'anitta', 'roberto-carlos',\n",
       "       'chiclete-com-banana', 'anitta', 'chiclete-com-banana', 'anitta',\n",
       "       'anitta', 'anitta', 'roberto-carlos', 'anitta', 'roberto-carlos',\n",
       "       'roberto-carlos', 'chiclete-com-banana', 'anitta', 'anitta',\n",
       "       'chiclete-com-banana', 'roberto-carlos', 'anitta', 'anitta',\n",
       "       'roberto-carlos', 'chiclete-com-banana', 'anitta',\n",
       "       'chiclete-com-banana', 'anitta', 'anitta', 'anitta',\n",
       "       'roberto-carlos', 'anitta', 'chiclete-com-banana',\n",
       "       'roberto-carlos', 'anitta', 'chiclete-com-banana', 'anitta',\n",
       "       'chiclete-com-banana', 'roberto-carlos', 'anitta',\n",
       "       'roberto-carlos', 'anitta', 'roberto-carlos',\n",
       "       'chiclete-com-banana', 'chiclete-com-banana', 'anitta', 'anitta',\n",
       "       'anitta', 'chiclete-com-banana', 'roberto-carlos',\n",
       "       'roberto-carlos', 'anitta', 'roberto-carlos', 'anitta',\n",
       "       'chiclete-com-banana', 'anitta', 'chiclete-com-banana', 'anitta',\n",
       "       'roberto-carlos', 'chiclete-com-banana', 'chiclete-com-banana',\n",
       "       'roberto-carlos', 'roberto-carlos', 'chiclete-com-banana',\n",
       "       'chiclete-com-banana', 'chiclete-com-banana',\n",
       "       'chiclete-com-banana', 'roberto-carlos', 'chiclete-com-banana',\n",
       "       'chiclete-com-banana', 'roberto-carlos', 'anitta',\n",
       "       'chiclete-com-banana', 'roberto-carlos', 'anitta',\n",
       "       'chiclete-com-banana', 'chiclete-com-banana', 'anitta', 'anitta',\n",
       "       'roberto-carlos', 'roberto-carlos', 'anitta', 'anitta', 'anitta',\n",
       "       'chiclete-com-banana', 'anitta', 'anitta', 'roberto-carlos',\n",
       "       'anitta', 'roberto-carlos', 'roberto-carlos', 'anitta', 'anitta',\n",
       "       'roberto-carlos', 'anitta', 'anitta', 'roberto-carlos',\n",
       "       'chiclete-com-banana', 'chiclete-com-banana', 'anitta',\n",
       "       'roberto-carlos', 'chiclete-com-banana', 'roberto-carlos',\n",
       "       'anitta', 'chiclete-com-banana', 'anitta', 'roberto-carlos',\n",
       "       'anitta', 'roberto-carlos', 'roberto-carlos',\n",
       "       'chiclete-com-banana', 'chiclete-com-banana',\n",
       "       'chiclete-com-banana', 'chiclete-com-banana', 'roberto-carlos',\n",
       "       'roberto-carlos'], dtype=object)"
      ]
     },
     "execution_count": 22,
     "metadata": {},
     "output_type": "execute_result"
    }
   ],
   "source": [
    "from sklearn.feature_extraction.text import CountVectorizer\n",
    "from sklearn.feature_extraction.text import TfidfTransformer\n",
    "\n",
    "from sklearn.pipeline import Pipeline\n",
    "\n",
    "dataprep = Pipeline([\n",
    "    ('count_vectorizer', CountVectorizer(ngram_range=(2,2), max_df=1000, min_df=5)),\n",
    "    ('tfidf_transformer', TfidfTransformer())\n",
    "])\n",
    "\n",
    "\n",
    "pipeline = Pipeline([\n",
    "    ('dataprep', dataprep),\n",
    "    ('model', LogisticRegression(max_iter=5000))\n",
    "])\n",
    "\n",
    "pipeline.fit(X_train, y_train)\n",
    "\n",
    "pipeline.predict(X_test)"
   ]
  },
  {
   "cell_type": "code",
   "execution_count": 23,
   "metadata": {
    "ExecuteTime": {
     "end_time": "2023-03-02T11:11:28.582232Z",
     "start_time": "2023-03-02T11:11:28.539490Z"
    }
   },
   "outputs": [
    {
     "data": {
      "text/html": [
       "<div>\n",
       "<style scoped>\n",
       "    .dataframe tbody tr th:only-of-type {\n",
       "        vertical-align: middle;\n",
       "    }\n",
       "\n",
       "    .dataframe tbody tr th {\n",
       "        vertical-align: top;\n",
       "    }\n",
       "\n",
       "    .dataframe thead th {\n",
       "        text-align: right;\n",
       "    }\n",
       "</style>\n",
       "<table border=\"1\" class=\"dataframe\">\n",
       "  <thead>\n",
       "    <tr style=\"text-align: right;\">\n",
       "      <th></th>\n",
       "      <th>0</th>\n",
       "      <th>1</th>\n",
       "      <th>2</th>\n",
       "    </tr>\n",
       "  </thead>\n",
       "  <tbody>\n",
       "    <tr>\n",
       "      <th>0</th>\n",
       "      <td>Olhe a vida que leva E pense profundo Você pod...</td>\n",
       "      <td>roberto-carlos</td>\n",
       "      <td>chiclete-com-banana</td>\n",
       "    </tr>\n",
       "    <tr>\n",
       "      <th>1</th>\n",
       "      <td>Andei, andei, andei Até encontrar Este amor tã...</td>\n",
       "      <td>roberto-carlos</td>\n",
       "      <td>roberto-carlos</td>\n",
       "    </tr>\n",
       "    <tr>\n",
       "      <th>2</th>\n",
       "      <td>Som rastafari Yê, yê babá (Jamaica) Yê Bob Mar...</td>\n",
       "      <td>anitta</td>\n",
       "      <td>chiclete-com-banana</td>\n",
       "    </tr>\n",
       "    <tr>\n",
       "      <th>3</th>\n",
       "      <td>Me ligue pra eu te ouvir feliz Me ligue que eu...</td>\n",
       "      <td>anitta</td>\n",
       "      <td>chiclete-com-banana</td>\n",
       "    </tr>\n",
       "    <tr>\n",
       "      <th>4</th>\n",
       "      <td>Eu me vi tão só Enfrentando momentos difíceis ...</td>\n",
       "      <td>roberto-carlos</td>\n",
       "      <td>roberto-carlos</td>\n",
       "    </tr>\n",
       "    <tr>\n",
       "      <th>...</th>\n",
       "      <td>...</td>\n",
       "      <td>...</td>\n",
       "      <td>...</td>\n",
       "    </tr>\n",
       "    <tr>\n",
       "      <th>145</th>\n",
       "      <td>Por trás dessa alegria Tem segredo guardado Co...</td>\n",
       "      <td>chiclete-com-banana</td>\n",
       "      <td>chiclete-com-banana</td>\n",
       "    </tr>\n",
       "    <tr>\n",
       "      <th>146</th>\n",
       "      <td>Ah, esse amor que me arrasta, me gasta e me fa...</td>\n",
       "      <td>chiclete-com-banana</td>\n",
       "      <td>roberto-carlos</td>\n",
       "    </tr>\n",
       "    <tr>\n",
       "      <th>147</th>\n",
       "      <td>Tão bela Ela é linda de verdade O que é realme...</td>\n",
       "      <td>chiclete-com-banana</td>\n",
       "      <td>anitta</td>\n",
       "    </tr>\n",
       "    <tr>\n",
       "      <th>148</th>\n",
       "      <td>Tanto tempo já vai caminhando E ainda me pego ...</td>\n",
       "      <td>roberto-carlos</td>\n",
       "      <td>roberto-carlos</td>\n",
       "    </tr>\n",
       "    <tr>\n",
       "      <th>149</th>\n",
       "      <td>Bem pertinho da entrada do gueto Um terreiro d...</td>\n",
       "      <td>roberto-carlos</td>\n",
       "      <td>chiclete-com-banana</td>\n",
       "    </tr>\n",
       "  </tbody>\n",
       "</table>\n",
       "<p>150 rows × 3 columns</p>\n",
       "</div>"
      ],
      "text/plain": [
       "                                                     0                    1  \\\n",
       "0    Olhe a vida que leva E pense profundo Você pod...       roberto-carlos   \n",
       "1    Andei, andei, andei Até encontrar Este amor tã...       roberto-carlos   \n",
       "2    Som rastafari Yê, yê babá (Jamaica) Yê Bob Mar...               anitta   \n",
       "3    Me ligue pra eu te ouvir feliz Me ligue que eu...               anitta   \n",
       "4    Eu me vi tão só Enfrentando momentos difíceis ...       roberto-carlos   \n",
       "..                                                 ...                  ...   \n",
       "145  Por trás dessa alegria Tem segredo guardado Co...  chiclete-com-banana   \n",
       "146  Ah, esse amor que me arrasta, me gasta e me fa...  chiclete-com-banana   \n",
       "147  Tão bela Ela é linda de verdade O que é realme...  chiclete-com-banana   \n",
       "148  Tanto tempo já vai caminhando E ainda me pego ...       roberto-carlos   \n",
       "149  Bem pertinho da entrada do gueto Um terreiro d...       roberto-carlos   \n",
       "\n",
       "                       2  \n",
       "0    chiclete-com-banana  \n",
       "1         roberto-carlos  \n",
       "2    chiclete-com-banana  \n",
       "3    chiclete-com-banana  \n",
       "4         roberto-carlos  \n",
       "..                   ...  \n",
       "145  chiclete-com-banana  \n",
       "146       roberto-carlos  \n",
       "147               anitta  \n",
       "148       roberto-carlos  \n",
       "149  chiclete-com-banana  \n",
       "\n",
       "[150 rows x 3 columns]"
      ]
     },
     "execution_count": 23,
     "metadata": {},
     "output_type": "execute_result"
    }
   ],
   "source": [
    "pd.DataFrame(zip(X_test, pipeline.predict(X_test), y_test))"
   ]
  },
  {
   "cell_type": "markdown",
   "metadata": {},
   "source": [
    "## Como foi a performance do seu modelo? Quais artistas o modelo mais errou? O que isso significa?"
   ]
  },
  {
   "cell_type": "code",
   "execution_count": 27,
   "metadata": {
    "ExecuteTime": {
     "end_time": "2023-03-02T11:12:37.181192Z",
     "start_time": "2023-03-02T11:12:37.169169Z"
    }
   },
   "outputs": [],
   "source": [
    "from sklearn.metrics import confusion_matrix"
   ]
  },
  {
   "cell_type": "code",
   "execution_count": 28,
   "metadata": {
    "ExecuteTime": {
     "end_time": "2023-03-02T11:12:37.564644Z",
     "start_time": "2023-03-02T11:12:37.511200Z"
    }
   },
   "outputs": [
    {
     "data": {
      "text/html": [
       "<div>\n",
       "<style scoped>\n",
       "    .dataframe tbody tr th:only-of-type {\n",
       "        vertical-align: middle;\n",
       "    }\n",
       "\n",
       "    .dataframe tbody tr th {\n",
       "        vertical-align: top;\n",
       "    }\n",
       "\n",
       "    .dataframe thead th {\n",
       "        text-align: right;\n",
       "    }\n",
       "</style>\n",
       "<table border=\"1\" class=\"dataframe\">\n",
       "  <thead>\n",
       "    <tr style=\"text-align: right;\">\n",
       "      <th></th>\n",
       "      <th>anitta</th>\n",
       "      <th>chiclete-com-banana</th>\n",
       "      <th>roberto-carlos</th>\n",
       "    </tr>\n",
       "  </thead>\n",
       "  <tbody>\n",
       "    <tr>\n",
       "      <th>anitta</th>\n",
       "      <td>37</td>\n",
       "      <td>4</td>\n",
       "      <td>2</td>\n",
       "    </tr>\n",
       "    <tr>\n",
       "      <th>chiclete-com-banana</th>\n",
       "      <td>7</td>\n",
       "      <td>29</td>\n",
       "      <td>10</td>\n",
       "    </tr>\n",
       "    <tr>\n",
       "      <th>roberto-carlos</th>\n",
       "      <td>13</td>\n",
       "      <td>9</td>\n",
       "      <td>39</td>\n",
       "    </tr>\n",
       "  </tbody>\n",
       "</table>\n",
       "</div>"
      ],
      "text/plain": [
       "                     anitta  chiclete-com-banana  roberto-carlos\n",
       "anitta                   37                    4               2\n",
       "chiclete-com-banana       7                   29              10\n",
       "roberto-carlos           13                    9              39"
      ]
     },
     "execution_count": 28,
     "metadata": {},
     "output_type": "execute_result"
    }
   ],
   "source": [
    "pd.DataFrame(\n",
    "    confusion_matrix(y_test, pipeline.predict(X_test)),\n",
    "    index=pipeline.classes_,\n",
    "    columns=pipeline.classes_)"
   ]
  },
  {
   "cell_type": "code",
   "execution_count": 29,
   "metadata": {
    "ExecuteTime": {
     "end_time": "2023-03-02T11:12:38.079060Z",
     "start_time": "2023-03-02T11:12:37.912696Z"
    },
    "scrolled": false
   },
   "outputs": [
    {
     "data": {
      "text/plain": [
       "<AxesSubplot:>"
      ]
     },
     "execution_count": 29,
     "metadata": {},
     "output_type": "execute_result"
    },
    {
     "data": {
      "image/png": "[encoded data removed]",
      "text/plain": [
       "<Figure size 640x480 with 2 Axes>"
      ]
     },
     "metadata": {},
     "output_type": "display_data"
    }
   ],
   "source": [
    "sns.heatmap(\n",
    "    pd.DataFrame(\n",
    "    confusion_matrix(y_test, pipeline.predict(X_test)),\n",
    "    index=pipeline.classes_,\n",
    "    columns=pipeline.classes_),\n",
    "    annot=True)"
   ]
  },
  {
   "cell_type": "markdown",
   "metadata": {},
   "source": [
    "# Bonus. Crie um sistema de recomendação para as músicas no seu dataframe."
   ]
  },
  {
   "cell_type": "code",
   "execution_count": 30,
   "metadata": {
    "ExecuteTime": {
     "end_time": "2023-03-02T11:14:32.411597Z",
     "start_time": "2023-03-02T11:14:32.400902Z"
    }
   },
   "outputs": [],
   "source": [
    "from scipy.spatial.distance import pdist, squareform"
   ]
  },
  {
   "cell_type": "code",
   "execution_count": 31,
   "metadata": {
    "ExecuteTime": {
     "end_time": "2023-03-02T11:14:33.245922Z",
     "start_time": "2023-03-02T11:14:33.105375Z"
    }
   },
   "outputs": [],
   "source": [
    "count_vectorizer = CountVectorizer(ngram_range=(2,2), max_df=1000, min_df=5)\n",
    "tfidf_transformer = TfidfTransformer()\n",
    "\n",
    "transformed_vector = count_vectorizer.fit_transform(final.Lyrics)\n",
    "transformed_vector = tfidf_transformer.fit_transform(transformed_vector)"
   ]
  },
  {
   "cell_type": "code",
   "execution_count": 32,
   "metadata": {
    "ExecuteTime": {
     "end_time": "2023-03-02T11:14:37.418103Z",
     "start_time": "2023-03-02T11:14:37.288976Z"
    }
   },
   "outputs": [],
   "source": [
    "from sklearn.feature_extraction.text import TfidfVectorizer\n",
    "\n",
    "tfid_vect = TfidfVectorizer(ngram_range=(2,2), max_df=1000, min_df=5)\n",
    "transformed_vector = tfid_vect.fit_transform(final.Lyrics)"
   ]
  },
  {
   "cell_type": "code",
   "execution_count": 33,
   "metadata": {
    "ExecuteTime": {
     "end_time": "2023-03-02T11:14:39.543940Z",
     "start_time": "2023-03-02T11:14:39.520684Z"
    }
   },
   "outputs": [
    {
     "data": {
      "text/plain": [
       "(598, 1337)"
      ]
     },
     "execution_count": 33,
     "metadata": {},
     "output_type": "execute_result"
    }
   ],
   "source": [
    "transformed_vector.toarray().shape"
   ]
  },
  {
   "cell_type": "code",
   "execution_count": 34,
   "metadata": {
    "ExecuteTime": {
     "end_time": "2023-03-02T11:14:44.675375Z",
     "start_time": "2023-03-02T11:14:44.528203Z"
    }
   },
   "outputs": [],
   "source": [
    "distances = pd.DataFrame(\n",
    "    squareform(\n",
    "    pdist(transformed_vector.toarray(), \n",
    "          metric='correlation'))).fillna(2)"
   ]
  },
  {
   "cell_type": "code",
   "execution_count": 35,
   "metadata": {
    "ExecuteTime": {
     "end_time": "2023-03-02T11:14:45.153391Z",
     "start_time": "2023-03-02T11:14:45.136190Z"
    }
   },
   "outputs": [],
   "source": [
    "similarities = 1 / ( 1 + distances )"
   ]
  },
  {
   "cell_type": "code",
   "execution_count": 36,
   "metadata": {
    "ExecuteTime": {
     "end_time": "2023-03-02T11:14:46.226122Z",
     "start_time": "2023-03-02T11:14:46.217119Z"
    }
   },
   "outputs": [],
   "source": [
    "similarities_between_chiclete_and_rc = similarities.loc[0:199, 200:399]"
   ]
  },
  {
   "cell_type": "code",
   "execution_count": 37,
   "metadata": {
    "ExecuteTime": {
     "end_time": "2023-03-02T11:14:49.859849Z",
     "start_time": "2023-03-02T11:14:49.849032Z"
    }
   },
   "outputs": [],
   "source": [
    "similarities_between_rc_and_anitta = similarities.loc[200:399, 400::]"
   ]
  },
  {
   "cell_type": "code",
   "execution_count": 38,
   "metadata": {
    "ExecuteTime": {
     "end_time": "2023-03-02T11:14:50.863523Z",
     "start_time": "2023-03-02T11:14:50.848373Z"
    }
   },
   "outputs": [
    {
     "data": {
      "text/plain": [
       "469    0.499813\n",
       "474    0.502722\n",
       "554    0.502722\n",
       "424    0.507582\n",
       "437    0.507588\n",
       "         ...   \n",
       "565    0.752942\n",
       "409    0.762736\n",
       "543    0.812468\n",
       "506    0.816419\n",
       "468    0.867971\n",
       "Length: 198, dtype: float64"
      ]
     },
     "execution_count": 38,
     "metadata": {},
     "output_type": "execute_result"
    }
   ],
   "source": [
    "similarities_between_rc_and_anitta.max().sort_values()"
   ]
  },
  {
   "cell_type": "code",
   "execution_count": 39,
   "metadata": {
    "ExecuteTime": {
     "end_time": "2023-03-02T11:14:52.131758Z",
     "start_time": "2023-03-02T11:14:52.111747Z"
    }
   },
   "outputs": [],
   "source": [
    "most_similar_song = similarities_between_rc_and_anitta.max().sort_values().index[-1]"
   ]
  },
  {
   "cell_type": "code",
   "execution_count": 40,
   "metadata": {
    "ExecuteTime": {
     "end_time": "2023-03-02T11:14:55.545205Z",
     "start_time": "2023-03-02T11:14:55.529754Z"
    }
   },
   "outputs": [
    {
     "data": {
      "text/plain": [
       "468"
      ]
     },
     "execution_count": 40,
     "metadata": {},
     "output_type": "execute_result"
    }
   ],
   "source": [
    "most_similar_song\n"
   ]
  },
  {
   "cell_type": "code",
   "execution_count": 41,
   "metadata": {
    "ExecuteTime": {
     "end_time": "2023-03-02T11:14:56.185518Z",
     "start_time": "2023-03-02T11:14:56.162073Z"
    }
   },
   "outputs": [
    {
     "data": {
      "text/html": [
       "<div>\n",
       "<style scoped>\n",
       "    .dataframe tbody tr th:only-of-type {\n",
       "        vertical-align: middle;\n",
       "    }\n",
       "\n",
       "    .dataframe tbody tr th {\n",
       "        vertical-align: top;\n",
       "    }\n",
       "\n",
       "    .dataframe thead th {\n",
       "        text-align: right;\n",
       "    }\n",
       "</style>\n",
       "<table border=\"1\" class=\"dataframe\">\n",
       "  <thead>\n",
       "    <tr style=\"text-align: right;\">\n",
       "      <th></th>\n",
       "      <th>400</th>\n",
       "      <th>401</th>\n",
       "      <th>402</th>\n",
       "      <th>403</th>\n",
       "      <th>404</th>\n",
       "      <th>405</th>\n",
       "      <th>406</th>\n",
       "      <th>407</th>\n",
       "      <th>408</th>\n",
       "      <th>409</th>\n",
       "      <th>...</th>\n",
       "      <th>588</th>\n",
       "      <th>589</th>\n",
       "      <th>590</th>\n",
       "      <th>591</th>\n",
       "      <th>592</th>\n",
       "      <th>593</th>\n",
       "      <th>594</th>\n",
       "      <th>595</th>\n",
       "      <th>596</th>\n",
       "      <th>597</th>\n",
       "    </tr>\n",
       "  </thead>\n",
       "  <tbody>\n",
       "    <tr>\n",
       "      <th>200</th>\n",
       "      <td>0.498332</td>\n",
       "      <td>0.499220</td>\n",
       "      <td>0.497816</td>\n",
       "      <td>0.503601</td>\n",
       "      <td>0.497636</td>\n",
       "      <td>0.504676</td>\n",
       "      <td>0.497780</td>\n",
       "      <td>0.523957</td>\n",
       "      <td>0.498500</td>\n",
       "      <td>0.498317</td>\n",
       "      <td>...</td>\n",
       "      <td>0.498639</td>\n",
       "      <td>0.497494</td>\n",
       "      <td>0.509691</td>\n",
       "      <td>0.497834</td>\n",
       "      <td>0.495780</td>\n",
       "      <td>0.497672</td>\n",
       "      <td>0.533563</td>\n",
       "      <td>0.496681</td>\n",
       "      <td>0.498458</td>\n",
       "      <td>0.508986</td>\n",
       "    </tr>\n",
       "    <tr>\n",
       "      <th>201</th>\n",
       "      <td>0.498228</td>\n",
       "      <td>0.497070</td>\n",
       "      <td>0.497680</td>\n",
       "      <td>0.496824</td>\n",
       "      <td>0.497489</td>\n",
       "      <td>0.497527</td>\n",
       "      <td>0.497642</td>\n",
       "      <td>0.497834</td>\n",
       "      <td>0.498406</td>\n",
       "      <td>0.498212</td>\n",
       "      <td>...</td>\n",
       "      <td>0.498555</td>\n",
       "      <td>0.497338</td>\n",
       "      <td>0.497780</td>\n",
       "      <td>0.497699</td>\n",
       "      <td>0.495518</td>\n",
       "      <td>0.497528</td>\n",
       "      <td>0.497381</td>\n",
       "      <td>0.506277</td>\n",
       "      <td>0.498362</td>\n",
       "      <td>0.498990</td>\n",
       "    </tr>\n",
       "    <tr>\n",
       "      <th>202</th>\n",
       "      <td>0.497999</td>\n",
       "      <td>0.500486</td>\n",
       "      <td>0.497380</td>\n",
       "      <td>0.496800</td>\n",
       "      <td>0.497797</td>\n",
       "      <td>0.534160</td>\n",
       "      <td>0.497338</td>\n",
       "      <td>0.497554</td>\n",
       "      <td>0.502718</td>\n",
       "      <td>0.497981</td>\n",
       "      <td>...</td>\n",
       "      <td>0.498368</td>\n",
       "      <td>0.512784</td>\n",
       "      <td>0.497494</td>\n",
       "      <td>0.520501</td>\n",
       "      <td>0.494943</td>\n",
       "      <td>0.497208</td>\n",
       "      <td>0.497044</td>\n",
       "      <td>0.510558</td>\n",
       "      <td>0.499787</td>\n",
       "      <td>0.498859</td>\n",
       "    </tr>\n",
       "    <tr>\n",
       "      <th>203</th>\n",
       "      <td>0.497309</td>\n",
       "      <td>0.497227</td>\n",
       "      <td>0.496478</td>\n",
       "      <td>0.507793</td>\n",
       "      <td>0.533509</td>\n",
       "      <td>0.508228</td>\n",
       "      <td>0.499318</td>\n",
       "      <td>0.496712</td>\n",
       "      <td>0.499647</td>\n",
       "      <td>0.497284</td>\n",
       "      <td>...</td>\n",
       "      <td>0.497804</td>\n",
       "      <td>0.502636</td>\n",
       "      <td>0.496631</td>\n",
       "      <td>0.505151</td>\n",
       "      <td>0.493213</td>\n",
       "      <td>0.496248</td>\n",
       "      <td>0.496026</td>\n",
       "      <td>0.511146</td>\n",
       "      <td>0.504340</td>\n",
       "      <td>0.498464</td>\n",
       "    </tr>\n",
       "    <tr>\n",
       "      <th>204</th>\n",
       "      <td>0.498413</td>\n",
       "      <td>0.497376</td>\n",
       "      <td>0.497922</td>\n",
       "      <td>0.497155</td>\n",
       "      <td>0.497751</td>\n",
       "      <td>0.497785</td>\n",
       "      <td>0.497888</td>\n",
       "      <td>0.503759</td>\n",
       "      <td>0.500406</td>\n",
       "      <td>0.498399</td>\n",
       "      <td>...</td>\n",
       "      <td>0.498706</td>\n",
       "      <td>0.497615</td>\n",
       "      <td>0.498012</td>\n",
       "      <td>0.497939</td>\n",
       "      <td>0.495984</td>\n",
       "      <td>0.497785</td>\n",
       "      <td>0.497654</td>\n",
       "      <td>0.518526</td>\n",
       "      <td>0.498533</td>\n",
       "      <td>0.500384</td>\n",
       "    </tr>\n",
       "    <tr>\n",
       "      <th>...</th>\n",
       "      <td>...</td>\n",
       "      <td>...</td>\n",
       "      <td>...</td>\n",
       "      <td>...</td>\n",
       "      <td>...</td>\n",
       "      <td>...</td>\n",
       "      <td>...</td>\n",
       "      <td>...</td>\n",
       "      <td>...</td>\n",
       "      <td>...</td>\n",
       "      <td>...</td>\n",
       "      <td>...</td>\n",
       "      <td>...</td>\n",
       "      <td>...</td>\n",
       "      <td>...</td>\n",
       "      <td>...</td>\n",
       "      <td>...</td>\n",
       "      <td>...</td>\n",
       "      <td>...</td>\n",
       "      <td>...</td>\n",
       "      <td>...</td>\n",
       "    </tr>\n",
       "    <tr>\n",
       "      <th>395</th>\n",
       "      <td>0.497969</td>\n",
       "      <td>0.509901</td>\n",
       "      <td>0.497341</td>\n",
       "      <td>0.505847</td>\n",
       "      <td>0.497123</td>\n",
       "      <td>0.530129</td>\n",
       "      <td>0.497298</td>\n",
       "      <td>0.497518</td>\n",
       "      <td>0.498173</td>\n",
       "      <td>0.497950</td>\n",
       "      <td>...</td>\n",
       "      <td>0.498343</td>\n",
       "      <td>0.505046</td>\n",
       "      <td>0.497456</td>\n",
       "      <td>0.500610</td>\n",
       "      <td>0.494867</td>\n",
       "      <td>0.497166</td>\n",
       "      <td>0.496999</td>\n",
       "      <td>0.513420</td>\n",
       "      <td>0.498122</td>\n",
       "      <td>0.498842</td>\n",
       "    </tr>\n",
       "    <tr>\n",
       "      <th>396</th>\n",
       "      <td>0.512330</td>\n",
       "      <td>0.512695</td>\n",
       "      <td>0.496194</td>\n",
       "      <td>0.503271</td>\n",
       "      <td>0.497158</td>\n",
       "      <td>0.504305</td>\n",
       "      <td>0.526293</td>\n",
       "      <td>0.496447</td>\n",
       "      <td>0.500788</td>\n",
       "      <td>0.497065</td>\n",
       "      <td>...</td>\n",
       "      <td>0.497626</td>\n",
       "      <td>0.506253</td>\n",
       "      <td>0.496358</td>\n",
       "      <td>0.502995</td>\n",
       "      <td>0.492669</td>\n",
       "      <td>0.495945</td>\n",
       "      <td>0.495706</td>\n",
       "      <td>0.520753</td>\n",
       "      <td>0.511549</td>\n",
       "      <td>0.498340</td>\n",
       "    </tr>\n",
       "    <tr>\n",
       "      <th>397</th>\n",
       "      <td>0.497491</td>\n",
       "      <td>0.496499</td>\n",
       "      <td>0.496715</td>\n",
       "      <td>0.503702</td>\n",
       "      <td>0.496806</td>\n",
       "      <td>0.499185</td>\n",
       "      <td>0.500708</td>\n",
       "      <td>0.496934</td>\n",
       "      <td>0.497742</td>\n",
       "      <td>0.497467</td>\n",
       "      <td>...</td>\n",
       "      <td>0.497952</td>\n",
       "      <td>0.503382</td>\n",
       "      <td>0.496857</td>\n",
       "      <td>0.497889</td>\n",
       "      <td>0.493667</td>\n",
       "      <td>0.496500</td>\n",
       "      <td>0.496294</td>\n",
       "      <td>0.526916</td>\n",
       "      <td>0.502597</td>\n",
       "      <td>0.498568</td>\n",
       "    </tr>\n",
       "    <tr>\n",
       "      <th>398</th>\n",
       "      <td>0.496974</td>\n",
       "      <td>0.511721</td>\n",
       "      <td>0.496040</td>\n",
       "      <td>0.500469</td>\n",
       "      <td>0.496793</td>\n",
       "      <td>0.528265</td>\n",
       "      <td>0.506567</td>\n",
       "      <td>0.496303</td>\n",
       "      <td>0.498646</td>\n",
       "      <td>0.496946</td>\n",
       "      <td>...</td>\n",
       "      <td>0.497530</td>\n",
       "      <td>0.510988</td>\n",
       "      <td>0.496211</td>\n",
       "      <td>0.528294</td>\n",
       "      <td>0.492374</td>\n",
       "      <td>0.495781</td>\n",
       "      <td>0.495532</td>\n",
       "      <td>0.507594</td>\n",
       "      <td>0.507491</td>\n",
       "      <td>0.498272</td>\n",
       "    </tr>\n",
       "    <tr>\n",
       "      <th>399</th>\n",
       "      <td>0.502567</td>\n",
       "      <td>0.499205</td>\n",
       "      <td>0.495687</td>\n",
       "      <td>0.498612</td>\n",
       "      <td>0.504951</td>\n",
       "      <td>0.504621</td>\n",
       "      <td>0.497269</td>\n",
       "      <td>0.495973</td>\n",
       "      <td>0.497922</td>\n",
       "      <td>0.496673</td>\n",
       "      <td>...</td>\n",
       "      <td>0.497309</td>\n",
       "      <td>0.498177</td>\n",
       "      <td>0.495873</td>\n",
       "      <td>0.507126</td>\n",
       "      <td>0.491700</td>\n",
       "      <td>0.495405</td>\n",
       "      <td>0.495135</td>\n",
       "      <td>0.516476</td>\n",
       "      <td>0.502337</td>\n",
       "      <td>0.498118</td>\n",
       "    </tr>\n",
       "  </tbody>\n",
       "</table>\n",
       "<p>200 rows × 198 columns</p>\n",
       "</div>"
      ],
      "text/plain": [
       "          400       401       402       403       404       405       406  \\\n",
       "200  0.498332  0.499220  0.497816  0.503601  0.497636  0.504676  0.497780   \n",
       "201  0.498228  0.497070  0.497680  0.496824  0.497489  0.497527  0.497642   \n",
       "202  0.497999  0.500486  0.497380  0.496800  0.497797  0.534160  0.497338   \n",
       "203  0.497309  0.497227  0.496478  0.507793  0.533509  0.508228  0.499318   \n",
       "204  0.498413  0.497376  0.497922  0.497155  0.497751  0.497785  0.497888   \n",
       "..        ...       ...       ...       ...       ...       ...       ...   \n",
       "395  0.497969  0.509901  0.497341  0.505847  0.497123  0.530129  0.497298   \n",
       "396  0.512330  0.512695  0.496194  0.503271  0.497158  0.504305  0.526293   \n",
       "397  0.497491  0.496499  0.496715  0.503702  0.496806  0.499185  0.500708   \n",
       "398  0.496974  0.511721  0.496040  0.500469  0.496793  0.528265  0.506567   \n",
       "399  0.502567  0.499205  0.495687  0.498612  0.504951  0.504621  0.497269   \n",
       "\n",
       "          407       408       409  ...       588       589       590  \\\n",
       "200  0.523957  0.498500  0.498317  ...  0.498639  0.497494  0.509691   \n",
       "201  0.497834  0.498406  0.498212  ...  0.498555  0.497338  0.497780   \n",
       "202  0.497554  0.502718  0.497981  ...  0.498368  0.512784  0.497494   \n",
       "203  0.496712  0.499647  0.497284  ...  0.497804  0.502636  0.496631   \n",
       "204  0.503759  0.500406  0.498399  ...  0.498706  0.497615  0.498012   \n",
       "..        ...       ...       ...  ...       ...       ...       ...   \n",
       "395  0.497518  0.498173  0.497950  ...  0.498343  0.505046  0.497456   \n",
       "396  0.496447  0.500788  0.497065  ...  0.497626  0.506253  0.496358   \n",
       "397  0.496934  0.497742  0.497467  ...  0.497952  0.503382  0.496857   \n",
       "398  0.496303  0.498646  0.496946  ...  0.497530  0.510988  0.496211   \n",
       "399  0.495973  0.497922  0.496673  ...  0.497309  0.498177  0.495873   \n",
       "\n",
       "          591       592       593       594       595       596       597  \n",
       "200  0.497834  0.495780  0.497672  0.533563  0.496681  0.498458  0.508986  \n",
       "201  0.497699  0.495518  0.497528  0.497381  0.506277  0.498362  0.498990  \n",
       "202  0.520501  0.494943  0.497208  0.497044  0.510558  0.499787  0.498859  \n",
       "203  0.505151  0.493213  0.496248  0.496026  0.511146  0.504340  0.498464  \n",
       "204  0.497939  0.495984  0.497785  0.497654  0.518526  0.498533  0.500384  \n",
       "..        ...       ...       ...       ...       ...       ...       ...  \n",
       "395  0.500610  0.494867  0.497166  0.496999  0.513420  0.498122  0.498842  \n",
       "396  0.502995  0.492669  0.495945  0.495706  0.520753  0.511549  0.498340  \n",
       "397  0.497889  0.493667  0.496500  0.496294  0.526916  0.502597  0.498568  \n",
       "398  0.528294  0.492374  0.495781  0.495532  0.507594  0.507491  0.498272  \n",
       "399  0.507126  0.491700  0.495405  0.495135  0.516476  0.502337  0.498118  \n",
       "\n",
       "[200 rows x 198 columns]"
      ]
     },
     "execution_count": 41,
     "metadata": {},
     "output_type": "execute_result"
    }
   ],
   "source": [
    "similarities_between_rc_and_anitta.loc[:]"
   ]
  },
  {
   "cell_type": "code",
   "execution_count": 42,
   "metadata": {
    "ExecuteTime": {
     "end_time": "2023-03-02T11:15:00.289554Z",
     "start_time": "2023-03-02T11:15:00.280594Z"
    },
    "scrolled": true
   },
   "outputs": [
    {
     "data": {
      "text/plain": [
       "333"
      ]
     },
     "execution_count": 42,
     "metadata": {},
     "output_type": "execute_result"
    }
   ],
   "source": [
    "similarities_between_rc_and_anitta.idxmax().loc[most_similar_song]"
   ]
  },
  {
   "cell_type": "code",
   "execution_count": 43,
   "metadata": {
    "ExecuteTime": {
     "end_time": "2023-03-02T11:15:00.827201Z",
     "start_time": "2023-03-02T11:15:00.817472Z"
    }
   },
   "outputs": [
    {
     "data": {
      "text/html": [
       "<div>\n",
       "<style scoped>\n",
       "    .dataframe tbody tr th:only-of-type {\n",
       "        vertical-align: middle;\n",
       "    }\n",
       "\n",
       "    .dataframe tbody tr th {\n",
       "        vertical-align: top;\n",
       "    }\n",
       "\n",
       "    .dataframe thead th {\n",
       "        text-align: right;\n",
       "    }\n",
       "</style>\n",
       "<table border=\"1\" class=\"dataframe\">\n",
       "  <thead>\n",
       "    <tr style=\"text-align: right;\">\n",
       "      <th></th>\n",
       "      <th>index</th>\n",
       "      <th>Lyrics</th>\n",
       "      <th>Artist</th>\n",
       "    </tr>\n",
       "  </thead>\n",
       "  <tbody>\n",
       "    <tr>\n",
       "      <th>394</th>\n",
       "      <td>566</td>\n",
       "      <td>Que bom te encontrar e ver que você está feliz...</td>\n",
       "      <td>roberto-carlos</td>\n",
       "    </tr>\n",
       "    <tr>\n",
       "      <th>542</th>\n",
       "      <td>119</td>\n",
       "      <td>Eu tô quase pirando Vendo você dançando Me olh...</td>\n",
       "      <td>anitta</td>\n",
       "    </tr>\n",
       "  </tbody>\n",
       "</table>\n",
       "</div>"
      ],
      "text/plain": [
       "     index                                             Lyrics          Artist\n",
       "394    566  Que bom te encontrar e ver que você está feliz...  roberto-carlos\n",
       "542    119  Eu tô quase pirando Vendo você dançando Me olh...          anitta"
      ]
     },
     "execution_count": 43,
     "metadata": {},
     "output_type": "execute_result"
    }
   ],
   "source": [
    "final.reset_index().loc[[394, 542], :]"
   ]
  },
  {
   "cell_type": "code",
   "execution_count": null,
   "metadata": {},
   "outputs": [],
   "source": []
  },
  {
   "cell_type": "code",
   "execution_count": null,
   "metadata": {},
   "outputs": [],
   "source": []
  },
  {
   "cell_type": "code",
   "execution_count": 44,
   "metadata": {
    "ExecuteTime": {
     "end_time": "2023-03-02T11:15:11.981702Z",
     "start_time": "2023-03-02T11:15:11.968172Z"
    }
   },
   "outputs": [
    {
     "data": {
      "text/plain": [
       "200    156\n",
       "201    142\n",
       "202    168\n",
       "203    154\n",
       "204     46\n",
       "      ... \n",
       "395    188\n",
       "396     38\n",
       "397     52\n",
       "398    168\n",
       "399     18\n",
       "Length: 200, dtype: int64"
      ]
     },
     "execution_count": 44,
     "metadata": {},
     "output_type": "execute_result"
    }
   ],
   "source": [
    "similarities_between_chiclete_and_rc.idxmax()"
   ]
  },
  {
   "cell_type": "code",
   "execution_count": 45,
   "metadata": {
    "ExecuteTime": {
     "end_time": "2023-03-02T11:15:12.349692Z",
     "start_time": "2023-03-02T11:15:12.333553Z"
    }
   },
   "outputs": [
    {
     "name": "stdout",
     "output_type": "stream",
     "text": [
      "270\n",
      "156\n"
     ]
    },
    {
     "data": {
      "text/html": [
       "<div>\n",
       "<style scoped>\n",
       "    .dataframe tbody tr th:only-of-type {\n",
       "        vertical-align: middle;\n",
       "    }\n",
       "\n",
       "    .dataframe tbody tr th {\n",
       "        vertical-align: top;\n",
       "    }\n",
       "\n",
       "    .dataframe thead th {\n",
       "        text-align: right;\n",
       "    }\n",
       "</style>\n",
       "<table border=\"1\" class=\"dataframe\">\n",
       "  <thead>\n",
       "    <tr style=\"text-align: right;\">\n",
       "      <th></th>\n",
       "      <th>index</th>\n",
       "      <th>Lyrics</th>\n",
       "      <th>Artist</th>\n",
       "    </tr>\n",
       "  </thead>\n",
       "  <tbody>\n",
       "    <tr>\n",
       "      <th>270</th>\n",
       "      <td>243</td>\n",
       "      <td>Fiu, fiu Que bárbaro! Lá, lá, lá, lá, lá, lá, ...</td>\n",
       "      <td>roberto-carlos</td>\n",
       "    </tr>\n",
       "    <tr>\n",
       "      <th>156</th>\n",
       "      <td>151</td>\n",
       "      <td>Lá lá lá lá Lá lá lá lá Ê ôh Lá lá lá lá Lá lá...</td>\n",
       "      <td>chiclete-com-banana</td>\n",
       "    </tr>\n",
       "  </tbody>\n",
       "</table>\n",
       "</div>"
      ],
      "text/plain": [
       "     index                                             Lyrics  \\\n",
       "270    243  Fiu, fiu Que bárbaro! Lá, lá, lá, lá, lá, lá, ...   \n",
       "156    151  Lá lá lá lá Lá lá lá lá Ê ôh Lá lá lá lá Lá lá...   \n",
       "\n",
       "                  Artist  \n",
       "270       roberto-carlos  \n",
       "156  chiclete-com-banana  "
      ]
     },
     "execution_count": 45,
     "metadata": {},
     "output_type": "execute_result"
    }
   ],
   "source": [
    "most_similar_song = similarities_between_chiclete_and_rc.max().sort_values().index[-1]\n",
    "print(most_similar_song)\n",
    "print(similarities_between_chiclete_and_rc.idxmax().loc[most_similar_song])\n",
    "\n",
    "final.reset_index().loc[[most_similar_song, \n",
    "                         similarities_between_chiclete_and_rc.idxmax().loc[most_similar_song]], :]"
   ]
  },
  {
   "cell_type": "code",
   "execution_count": 46,
   "metadata": {
    "ExecuteTime": {
     "end_time": "2023-03-02T11:15:13.279349Z",
     "start_time": "2023-03-02T11:15:13.264901Z"
    }
   },
   "outputs": [
    {
     "data": {
      "text/plain": [
       "array(['Fiu, fiu Que bárbaro! Lá, lá, lá, lá, lá, lá, lá, lá, lá , lá, lá, Todo mundo Lá, lá, lá, lá, lá, lá, lá, lá, lá, lá, lá Hum...Lá, lá, lá, lá, lá, lá, lá, lá, lá, lá, lá Vinha caminhando na praia Quando escutei grande gritaria Parei nem sei o que pensei  Como todo bom brasileiro Fui também bancar o olheiro E o que vi não esqueci Nem quero recordar  Um brotinho de monoquini Que antes só usava biquini Vinha caminhando assanhada Pra lá e pra cá  Lá, lá, lá, lá, lá, lá, lá, lá, lá, lá, lá Hum...Lá, lá, lá, lá, lá, lá, lá, lá, lá, lá, lá Me aproximei de mansinho Pra melhor olhar Quando de repente o brotinho Resolveu nadar  Grande confusão outra vez Se não sou forte não tinha vez Nadou, nadou até que cansou E foi pro sol secar  Não posso contar o que vi Mas sei que nunca mais esqueci Broto tem que usar monoquini Não suporto mais o biquini  Broto tem que usar monoquini Não suporto mais o biquini  Lá, lá, lá, lá, lá, lá, lá, lá, lá, lá, lá Hum... Lá, lá, lá, lá, lá, lá, lá, lá, lá, lá, lá  Me aproximei de mansinho Pra melhor olhar Quando de repente o brotinho Resolveu nadar  Grande confusão outra vez Se não sou forte não tinha vez Nadou, nadou até que cansou E foi pro sol secar  Não posso contar o que vi Mas sei que nunca mais esqueci Broto tem que usar monoquini Não suporto mais o biquini  Broto tem que usar monoquini Não suporto mais o biquini  Broto tem que usar monoquini Não suporto mais o biquini  Broto tem que usar monoquíni Não suporto mais o biquíni',\n",
       "       'Lá lá lá lá Lá lá lá lá Ê ôh Lá lá lá lá Lá lá lá lá Êiê  Te dei todo o meu carinho Construi o nosso ninho Pra você me dar valor Pintei um belo horizonte Carreguei água da fonte Pra regar o nosso amor  Minha joia preferida Entreguei a minha vida Mas você não quer ficar Mas não tem problema não Farei falta junto do teu coração  Amor, amor, seu amor sou eu Amor, amor, foi você quem me deu Amor, amor, seu amor sou eu Amor, amor, foi você quem me deu'],\n",
       "      dtype=object)"
      ]
     },
     "execution_count": 46,
     "metadata": {},
     "output_type": "execute_result"
    }
   ],
   "source": [
    "final.reset_index().loc[[most_similar_song, \n",
    "                         similarities_between_chiclete_and_rc.idxmax().loc[most_similar_song]], :].Lyrics.values"
   ]
  }
 ],
 "metadata": {
  "kernelspec": {
   "display_name": "Python 3 (ipykernel)",
   "language": "python",
   "name": "python3"
  },
  "language_info": {
   "codemirror_mode": {
    "name": "ipython",
    "version": 3
   },
   "file_extension": ".py",
   "mimetype": "text/x-python",
   "name": "python",
   "nbconvert_exporter": "python",
   "pygments_lexer": "ipython3",
   "version": "3.8.13"
  },
  "toc": {
   "base_numbering": 1,
   "nav_menu": {},
   "number_sections": true,
   "sideBar": true,
   "skip_h1_title": false,
   "title_cell": "Table of Contents",
   "title_sidebar": "Contents",
   "toc_cell": false,
   "toc_position": {},
   "toc_section_display": true,
   "toc_window_display": false
  },
  "varInspector": {
   "cols": {
    "lenName": 16,
    "lenType": 16,
    "lenVar": 40
   },
   "kernels_config": {
    "python": {
     "delete_cmd_postfix": "",
     "delete_cmd_prefix": "del ",
     "library": "var_list.py",
     "varRefreshCmd": "print(var_dic_list())"
    },
    "r": {
     "delete_cmd_postfix": ") ",
     "delete_cmd_prefix": "rm(",
     "library": "var_list.r",
     "varRefreshCmd": "cat(var_dic_list()) "
    }
   },
   "types_to_exclude": [
    "module",
    "function",
    "builtin_function_or_method",
    "instance",
    "_Feature"
   ],
   "window_display": false
  }
 },
 "nbformat": 4,
 "nbformat_minor": 2
}
